{
 "cells": [
  {
   "cell_type": "code",
   "execution_count": 12,
   "id": "238a5e9f",
   "metadata": {},
   "outputs": [
    {
     "name": "stdout",
     "output_type": "stream",
     "text": [
      "Datei: D:\\Hausverwaltung\\rental-price-prediction-dashboard\\data\\4000W-0004_de.csv | existiert: True\n"
     ]
    }
   ],
   "source": [
    "from pathlib import Path\n",
    "import re\n",
    "import numpy as np\n",
    "import pandas as pd\n",
    "\n",
    "\n",
    "# fester Pfad relativ zum Notebook\n",
    "DATA = Path(\"../data\")\n",
    "CSV_0004 = DATA / \"4000W-0004_de.csv\"\n",
    "CLEAN = DATA / \"clean\"\n",
    "CLEAN.mkdir(exist_ok=True)\n",
    "\n",
    "print(\"Datei:\", CSV_0004.resolve(), \"| existiert:\", CSV_0004.exists())\n",
    "\n"
   ]
  },
  {
   "cell_type": "code",
   "execution_count": 5,
   "id": "b5a40656",
   "metadata": {},
   "outputs": [
    {
     "data": {
      "application/vnd.microsoft.datawrangler.viewer.v0+json": {
       "columns": [
        {
         "name": "index",
         "rawType": "int64",
         "type": "integer"
        },
        {
         "name": "GKZ",
         "rawType": "object",
         "type": "string"
        },
        {
         "name": "Gemeindename",
         "rawType": "object",
         "type": "string"
        },
        {
         "name": "Miete_raw",
         "rawType": "object",
         "type": "string"
        }
       ],
       "ref": "8b5d239f-0e51-486a-9daf-a4113c887d16",
       "rows": [
        [
         "0",
         "010010000000",
         "Flensburg, Stadt",
         "6,96"
        ],
        [
         "1",
         "010020000000",
         "Kiel, Landeshauptstadt",
         "7,64"
        ],
        [
         "2",
         "010030000000",
         "Lübeck, Hansestadt",
         "7,47"
        ],
        [
         "3",
         "010040000000",
         "Neumünster, Stadt",
         "6,22"
        ],
        [
         "4",
         "010510011011",
         "Brunsbüttel, Stadt",
         "5,74"
        ],
        [
         "5",
         "010510044044",
         "Heide, Stadt",
         "6,68"
        ],
        [
         "6",
         "010515163003",
         "Averlak",
         "5,12"
        ],
        [
         "7",
         "010515163010",
         "Brickeln",
         "5,73"
        ],
        [
         "8",
         "010515163012",
         "Buchholz (Kreis Dithmarschen)",
         "5"
        ],
        [
         "9",
         "010515163016",
         "Burg (Dithmarschen)",
         "5,67"
        ],
        [
         "10",
         "010515163022",
         "Dingen",
         "5,89"
        ],
        [
         "11",
         "010515163024",
         "Eddelak",
         "4,83"
        ],
        [
         "12",
         "010515163026",
         "Eggstedt",
         "4,97"
        ],
        [
         "13",
         "010515163032",
         "Frestedt",
         "5,12"
        ],
        [
         "14",
         "010515163037",
         "Großenrade",
         "4,9"
        ],
        [
         "15",
         "010515163051",
         "Hochdonn",
         "5,09"
        ],
        [
         "16",
         "010515163064",
         "Kuden",
         "4,95"
        ],
        [
         "17",
         "010515163089",
         "Quickborn",
         "4,88"
        ],
        [
         "18",
         "010515163097",
         "Sankt Michaelisdonn",
         "5,88"
        ],
        [
         "19",
         "010515163110",
         "Süderhastedt",
         "5,05"
        ],
        [
         "20",
         "010515166021",
         "Diekhusen-Fahrstedt",
         "6"
        ],
        [
         "21",
         "010515166034",
         "Friedrichskoog",
         "6,1"
        ],
        [
         "22",
         "010515166046",
         "Helse",
         "5,76"
        ],
        [
         "23",
         "010515166057",
         "Kaiser-Wilhelm-Koog",
         "6,1"
        ],
        [
         "24",
         "010515166062",
         "Kronprinzenkoog",
         "5,23"
        ],
        [
         "25",
         "010515166072",
         "Marne, Stadt",
         "6"
        ],
        [
         "26",
         "010515166073",
         "Marnerdeich",
         "5,81"
        ],
        [
         "27",
         "010515166076",
         "Neufeld",
         "5,37"
        ],
        [
         "28",
         "010515166077",
         "Neufelderkoog",
         "3,74"
        ],
        [
         "29",
         "010515166090",
         "Ramhusen",
         "5,23"
        ],
        [
         "30",
         "010515166103",
         "Schmedeswurth",
         "5,27"
        ],
        [
         "31",
         "010515166118",
         "Trennewurth",
         "4,38"
        ],
        [
         "32",
         "010515166119",
         "Volsemenhusen",
         "4,77"
        ],
        [
         "33",
         "010515169005",
         "Barkenholm",
         "5,63"
        ],
        [
         "34",
         "010515169008",
         "Bergewöhrden",
         "5,51"
        ],
        [
         "35",
         "010515169019",
         "Dellstedt",
         "4,94"
        ],
        [
         "36",
         "010515169020",
         "Delve",
         "4,91"
        ],
        [
         "37",
         "010515169023",
         "Dörpling",
         "5,1"
        ],
        [
         "38",
         "010515169030",
         "Fedderingen",
         "4,27"
        ],
        [
         "39",
         "010515169035",
         "Gaushorn",
         "6,09"
        ],
        [
         "40",
         "010515169036",
         "Glüsing",
         "4,48"
        ],
        [
         "41",
         "010515169038",
         "Groven",
         "5,23"
        ],
        [
         "42",
         "010515169047",
         "Hemme",
         "4,92"
        ],
        [
         "43",
         "010515169049",
         "Hennstedt (Kreis Dithmarschen)",
         "5,78"
        ],
        [
         "44",
         "010515169052",
         "Hövede",
         "4,43"
        ],
        [
         "45",
         "010515169053",
         "Hollingstedt (Kreis Dithmarschen)",
         "5,03"
        ],
        [
         "46",
         "010515169058",
         "Karolinenkoog",
         "4,51"
        ],
        [
         "47",
         "010515169060",
         "Kleve (Kreis Dithmarschen)",
         "4,63"
        ],
        [
         "48",
         "010515169061",
         "Krempel",
         "5,04"
        ],
        [
         "49",
         "010515169065",
         "Lehe (Kreis Dithmarschen)",
         "5,32"
        ]
       ],
       "shape": {
        "columns": 3,
        "rows": 10786
       }
      },
      "text/html": [
       "<div>\n",
       "<style scoped>\n",
       "    .dataframe tbody tr th:only-of-type {\n",
       "        vertical-align: middle;\n",
       "    }\n",
       "\n",
       "    .dataframe tbody tr th {\n",
       "        vertical-align: top;\n",
       "    }\n",
       "\n",
       "    .dataframe thead th {\n",
       "        text-align: right;\n",
       "    }\n",
       "</style>\n",
       "<table border=\"1\" class=\"dataframe\">\n",
       "  <thead>\n",
       "    <tr style=\"text-align: right;\">\n",
       "      <th></th>\n",
       "      <th>GKZ</th>\n",
       "      <th>Gemeindename</th>\n",
       "      <th>Miete_raw</th>\n",
       "    </tr>\n",
       "  </thead>\n",
       "  <tbody>\n",
       "    <tr>\n",
       "      <th>0</th>\n",
       "      <td>010010000000</td>\n",
       "      <td>Flensburg, Stadt</td>\n",
       "      <td>6,96</td>\n",
       "    </tr>\n",
       "    <tr>\n",
       "      <th>1</th>\n",
       "      <td>010020000000</td>\n",
       "      <td>Kiel, Landeshauptstadt</td>\n",
       "      <td>7,64</td>\n",
       "    </tr>\n",
       "    <tr>\n",
       "      <th>2</th>\n",
       "      <td>010030000000</td>\n",
       "      <td>Lübeck, Hansestadt</td>\n",
       "      <td>7,47</td>\n",
       "    </tr>\n",
       "    <tr>\n",
       "      <th>3</th>\n",
       "      <td>010040000000</td>\n",
       "      <td>Neumünster, Stadt</td>\n",
       "      <td>6,22</td>\n",
       "    </tr>\n",
       "    <tr>\n",
       "      <th>4</th>\n",
       "      <td>010510011011</td>\n",
       "      <td>Brunsbüttel, Stadt</td>\n",
       "      <td>5,74</td>\n",
       "    </tr>\n",
       "    <tr>\n",
       "      <th>...</th>\n",
       "      <td>...</td>\n",
       "      <td>...</td>\n",
       "      <td>...</td>\n",
       "    </tr>\n",
       "    <tr>\n",
       "      <th>10781</th>\n",
       "      <td>1,60775E+11</td>\n",
       "      <td>Göpfersdorf</td>\n",
       "      <td>4,19</td>\n",
       "    </tr>\n",
       "    <tr>\n",
       "      <th>10782</th>\n",
       "      <td>1,60775E+11</td>\n",
       "      <td>Langenleuba-Niederhain</td>\n",
       "      <td>4,4</td>\n",
       "    </tr>\n",
       "    <tr>\n",
       "      <th>10783</th>\n",
       "      <td>1,60775E+11</td>\n",
       "      <td>Nobitz</td>\n",
       "      <td>4,69</td>\n",
       "    </tr>\n",
       "    <tr>\n",
       "      <th>10784</th>\n",
       "      <td>1,60775E+11</td>\n",
       "      <td>Dobitschen</td>\n",
       "      <td>4,44</td>\n",
       "    </tr>\n",
       "    <tr>\n",
       "      <th>10785</th>\n",
       "      <td>1,60775E+11</td>\n",
       "      <td>Schmölln, Stadt</td>\n",
       "      <td>4,96</td>\n",
       "    </tr>\n",
       "  </tbody>\n",
       "</table>\n",
       "<p>10786 rows × 3 columns</p>\n",
       "</div>"
      ],
      "text/plain": [
       "                GKZ            Gemeindename Miete_raw\n",
       "0      010010000000        Flensburg, Stadt      6,96\n",
       "1      010020000000  Kiel, Landeshauptstadt      7,64\n",
       "2      010030000000      Lübeck, Hansestadt      7,47\n",
       "3      010040000000       Neumünster, Stadt      6,22\n",
       "4      010510011011      Brunsbüttel, Stadt      5,74\n",
       "...             ...                     ...       ...\n",
       "10781   1,60775E+11             Göpfersdorf      4,19\n",
       "10782   1,60775E+11  Langenleuba-Niederhain       4,4\n",
       "10783   1,60775E+11                  Nobitz      4,69\n",
       "10784   1,60775E+11              Dobitschen      4,44\n",
       "10785   1,60775E+11         Schmölln, Stadt      4,96\n",
       "\n",
       "[10786 rows x 3 columns]"
      ]
     },
     "execution_count": 5,
     "metadata": {},
     "output_type": "execute_result"
    }
   ],
   "source": [
    "df = pd.read_csv(\"../data/4000W-0004_de.csv\", sep=\";\", header=None, names=[\"GKZ\",\"Gemeindename\",\"Miete_raw\"], encoding=\"utf-8-sig\")\n",
    "df"
   ]
  },
  {
   "cell_type": "code",
   "execution_count": 10,
   "id": "ec125aa3",
   "metadata": {},
   "outputs": [
    {
     "data": {
      "application/vnd.microsoft.datawrangler.viewer.v0+json": {
       "columns": [
        {
         "name": "index",
         "rawType": "int64",
         "type": "integer"
        },
        {
         "name": "GKZ",
         "rawType": "object",
         "type": "string"
        },
        {
         "name": "Gemeindename",
         "rawType": "object",
         "type": "string"
        },
        {
         "name": "Miete_raw",
         "rawType": "object",
         "type": "string"
        }
       ],
       "ref": "0988ec28-2cf8-405a-86e8-efaf62bf4ce5",
       "rows": [
        [
         "0",
         "010010000000",
         "Flensburg",
         "6,96"
        ],
        [
         "1",
         "010020000000",
         "Kiel",
         "7,64"
        ],
        [
         "2",
         "010030000000",
         "Lübeck",
         "7,47"
        ],
        [
         "3",
         "010040000000",
         "Neumünster",
         "6,22"
        ],
        [
         "4",
         "010510011011",
         "Brunsbüttel",
         "5,74"
        ],
        [
         "5",
         "010510044044",
         "Heide",
         "6,68"
        ],
        [
         "6",
         "010515163003",
         "Averlak",
         "5,12"
        ],
        [
         "7",
         "010515163010",
         "Brickeln",
         "5,73"
        ],
        [
         "8",
         "010515163012",
         "Buchholz (Kreis Dithmarschen)",
         "5"
        ],
        [
         "9",
         "010515163016",
         "Burg (Dithmarschen)",
         "5,67"
        ],
        [
         "10",
         "010515163022",
         "Dingen",
         "5,89"
        ],
        [
         "11",
         "010515163024",
         "Eddelak",
         "4,83"
        ],
        [
         "12",
         "010515163026",
         "Eggstedt",
         "4,97"
        ],
        [
         "13",
         "010515163032",
         "Frestedt",
         "5,12"
        ],
        [
         "14",
         "010515163037",
         "Großenrade",
         "4,9"
        ],
        [
         "15",
         "010515163051",
         "Hochdonn",
         "5,09"
        ],
        [
         "16",
         "010515163064",
         "Kuden",
         "4,95"
        ],
        [
         "17",
         "010515163089",
         "Quickborn",
         "4,88"
        ],
        [
         "18",
         "010515163097",
         "Sankt Michaelisdonn",
         "5,88"
        ],
        [
         "19",
         "010515163110",
         "Süderhastedt",
         "5,05"
        ],
        [
         "20",
         "010515166021",
         "Diekhusen-Fahrstedt",
         "6"
        ],
        [
         "21",
         "010515166034",
         "Friedrichskoog",
         "6,1"
        ],
        [
         "22",
         "010515166046",
         "Helse",
         "5,76"
        ],
        [
         "23",
         "010515166057",
         "Kaiser-Wilhelm-Koog",
         "6,1"
        ],
        [
         "24",
         "010515166062",
         "Kronprinzenkoog",
         "5,23"
        ],
        [
         "25",
         "010515166072",
         "Marne",
         "6"
        ],
        [
         "26",
         "010515166073",
         "Marnerdeich",
         "5,81"
        ],
        [
         "27",
         "010515166076",
         "Neufeld",
         "5,37"
        ],
        [
         "28",
         "010515166077",
         "Neufelderkoog",
         "3,74"
        ],
        [
         "29",
         "010515166090",
         "Ramhusen",
         "5,23"
        ],
        [
         "30",
         "010515166103",
         "Schmedeswurth",
         "5,27"
        ],
        [
         "31",
         "010515166118",
         "Trennewurth",
         "4,38"
        ],
        [
         "32",
         "010515166119",
         "Volsemenhusen",
         "4,77"
        ],
        [
         "33",
         "010515169005",
         "Barkenholm",
         "5,63"
        ],
        [
         "34",
         "010515169008",
         "Bergewöhrden",
         "5,51"
        ],
        [
         "35",
         "010515169019",
         "Dellstedt",
         "4,94"
        ],
        [
         "36",
         "010515169020",
         "Delve",
         "4,91"
        ],
        [
         "37",
         "010515169023",
         "Dörpling",
         "5,1"
        ],
        [
         "38",
         "010515169030",
         "Fedderingen",
         "4,27"
        ],
        [
         "39",
         "010515169035",
         "Gaushorn",
         "6,09"
        ],
        [
         "40",
         "010515169036",
         "Glüsing",
         "4,48"
        ],
        [
         "41",
         "010515169038",
         "Groven",
         "5,23"
        ],
        [
         "42",
         "010515169047",
         "Hemme",
         "4,92"
        ],
        [
         "43",
         "010515169049",
         "Hennstedt (Kreis Dithmarschen)",
         "5,78"
        ],
        [
         "44",
         "010515169052",
         "Hövede",
         "4,43"
        ],
        [
         "45",
         "010515169053",
         "Hollingstedt (Kreis Dithmarschen)",
         "5,03"
        ],
        [
         "46",
         "010515169058",
         "Karolinenkoog",
         "4,51"
        ],
        [
         "47",
         "010515169060",
         "Kleve (Kreis Dithmarschen)",
         "4,63"
        ],
        [
         "48",
         "010515169061",
         "Krempel",
         "5,04"
        ],
        [
         "49",
         "010515169065",
         "Lehe (Kreis Dithmarschen)",
         "5,32"
        ]
       ],
       "shape": {
        "columns": 3,
        "rows": 10786
       }
      },
      "text/html": [
       "<div>\n",
       "<style scoped>\n",
       "    .dataframe tbody tr th:only-of-type {\n",
       "        vertical-align: middle;\n",
       "    }\n",
       "\n",
       "    .dataframe tbody tr th {\n",
       "        vertical-align: top;\n",
       "    }\n",
       "\n",
       "    .dataframe thead th {\n",
       "        text-align: right;\n",
       "    }\n",
       "</style>\n",
       "<table border=\"1\" class=\"dataframe\">\n",
       "  <thead>\n",
       "    <tr style=\"text-align: right;\">\n",
       "      <th></th>\n",
       "      <th>GKZ</th>\n",
       "      <th>Gemeindename</th>\n",
       "      <th>Miete_raw</th>\n",
       "    </tr>\n",
       "  </thead>\n",
       "  <tbody>\n",
       "    <tr>\n",
       "      <th>0</th>\n",
       "      <td>010010000000</td>\n",
       "      <td>Flensburg</td>\n",
       "      <td>6,96</td>\n",
       "    </tr>\n",
       "    <tr>\n",
       "      <th>1</th>\n",
       "      <td>010020000000</td>\n",
       "      <td>Kiel</td>\n",
       "      <td>7,64</td>\n",
       "    </tr>\n",
       "    <tr>\n",
       "      <th>2</th>\n",
       "      <td>010030000000</td>\n",
       "      <td>Lübeck</td>\n",
       "      <td>7,47</td>\n",
       "    </tr>\n",
       "    <tr>\n",
       "      <th>3</th>\n",
       "      <td>010040000000</td>\n",
       "      <td>Neumünster</td>\n",
       "      <td>6,22</td>\n",
       "    </tr>\n",
       "    <tr>\n",
       "      <th>4</th>\n",
       "      <td>010510011011</td>\n",
       "      <td>Brunsbüttel</td>\n",
       "      <td>5,74</td>\n",
       "    </tr>\n",
       "    <tr>\n",
       "      <th>...</th>\n",
       "      <td>...</td>\n",
       "      <td>...</td>\n",
       "      <td>...</td>\n",
       "    </tr>\n",
       "    <tr>\n",
       "      <th>10781</th>\n",
       "      <td>1,60775E+11</td>\n",
       "      <td>Göpfersdorf</td>\n",
       "      <td>4,19</td>\n",
       "    </tr>\n",
       "    <tr>\n",
       "      <th>10782</th>\n",
       "      <td>1,60775E+11</td>\n",
       "      <td>Langenleuba-Niederhain</td>\n",
       "      <td>4,4</td>\n",
       "    </tr>\n",
       "    <tr>\n",
       "      <th>10783</th>\n",
       "      <td>1,60775E+11</td>\n",
       "      <td>Nobitz</td>\n",
       "      <td>4,69</td>\n",
       "    </tr>\n",
       "    <tr>\n",
       "      <th>10784</th>\n",
       "      <td>1,60775E+11</td>\n",
       "      <td>Dobitschen</td>\n",
       "      <td>4,44</td>\n",
       "    </tr>\n",
       "    <tr>\n",
       "      <th>10785</th>\n",
       "      <td>1,60775E+11</td>\n",
       "      <td>Schmölln</td>\n",
       "      <td>4,96</td>\n",
       "    </tr>\n",
       "  </tbody>\n",
       "</table>\n",
       "<p>10786 rows × 3 columns</p>\n",
       "</div>"
      ],
      "text/plain": [
       "                GKZ            Gemeindename Miete_raw\n",
       "0      010010000000               Flensburg      6,96\n",
       "1      010020000000                    Kiel      7,64\n",
       "2      010030000000                  Lübeck      7,47\n",
       "3      010040000000              Neumünster      6,22\n",
       "4      010510011011             Brunsbüttel      5,74\n",
       "...             ...                     ...       ...\n",
       "10781   1,60775E+11             Göpfersdorf      4,19\n",
       "10782   1,60775E+11  Langenleuba-Niederhain       4,4\n",
       "10783   1,60775E+11                  Nobitz      4,69\n",
       "10784   1,60775E+11              Dobitschen      4,44\n",
       "10785   1,60775E+11                Schmölln      4,96\n",
       "\n",
       "[10786 rows x 3 columns]"
      ]
     },
     "execution_count": 10,
     "metadata": {},
     "output_type": "execute_result"
    }
   ],
   "source": [
    "df[\"Gemeindename\"] = df[\"Gemeindename\"].astype(str).str.split(\",\", n=1).str[0].str.strip()\n",
    "df"
   ]
  },
  {
   "cell_type": "code",
   "execution_count": 12,
   "id": "1a3e9596",
   "metadata": {},
   "outputs": [
    {
     "data": {
      "application/vnd.microsoft.datawrangler.viewer.v0+json": {
       "columns": [
        {
         "name": "index",
         "rawType": "int64",
         "type": "integer"
        },
        {
         "name": "GKZ",
         "rawType": "object",
         "type": "string"
        },
        {
         "name": "Gemeindename",
         "rawType": "object",
         "type": "string"
        },
        {
         "name": "Miete_raw",
         "rawType": "object",
         "type": "string"
        }
       ],
       "ref": "1a11e810-5fd1-4772-9b5a-6179f2201fa8",
       "rows": [
        [
         "0",
         "010010000000",
         "Flensburg",
         "6,96"
        ],
        [
         "1",
         "010020000000",
         "Kiel",
         "7,64"
        ],
        [
         "2",
         "010030000000",
         "Lübeck",
         "7,47"
        ],
        [
         "3",
         "010040000000",
         "Neumünster",
         "6,22"
        ],
        [
         "4",
         "010510011011",
         "Brunsbüttel",
         "5,74"
        ],
        [
         "5",
         "010510044044",
         "Heide",
         "6,68"
        ],
        [
         "6",
         "010515163003",
         "Averlak",
         "5,12"
        ],
        [
         "7",
         "010515163010",
         "Brickeln",
         "5,73"
        ],
        [
         "8",
         "010515163012",
         "Buchholz",
         "5"
        ],
        [
         "9",
         "010515163016",
         "Burg",
         "5,67"
        ],
        [
         "10",
         "010515163022",
         "Dingen",
         "5,89"
        ],
        [
         "11",
         "010515163024",
         "Eddelak",
         "4,83"
        ],
        [
         "12",
         "010515163026",
         "Eggstedt",
         "4,97"
        ],
        [
         "13",
         "010515163032",
         "Frestedt",
         "5,12"
        ],
        [
         "14",
         "010515163037",
         "Großenrade",
         "4,9"
        ],
        [
         "15",
         "010515163051",
         "Hochdonn",
         "5,09"
        ],
        [
         "16",
         "010515163064",
         "Kuden",
         "4,95"
        ],
        [
         "17",
         "010515163089",
         "Quickborn",
         "4,88"
        ],
        [
         "18",
         "010515163097",
         "Sankt Michaelisdonn",
         "5,88"
        ],
        [
         "19",
         "010515163110",
         "Süderhastedt",
         "5,05"
        ],
        [
         "20",
         "010515166021",
         "Diekhusen-Fahrstedt",
         "6"
        ],
        [
         "21",
         "010515166034",
         "Friedrichskoog",
         "6,1"
        ],
        [
         "22",
         "010515166046",
         "Helse",
         "5,76"
        ],
        [
         "23",
         "010515166057",
         "Kaiser-Wilhelm-Koog",
         "6,1"
        ],
        [
         "24",
         "010515166062",
         "Kronprinzenkoog",
         "5,23"
        ],
        [
         "25",
         "010515166072",
         "Marne",
         "6"
        ],
        [
         "26",
         "010515166073",
         "Marnerdeich",
         "5,81"
        ],
        [
         "27",
         "010515166076",
         "Neufeld",
         "5,37"
        ],
        [
         "28",
         "010515166077",
         "Neufelderkoog",
         "3,74"
        ],
        [
         "29",
         "010515166090",
         "Ramhusen",
         "5,23"
        ],
        [
         "30",
         "010515166103",
         "Schmedeswurth",
         "5,27"
        ],
        [
         "31",
         "010515166118",
         "Trennewurth",
         "4,38"
        ],
        [
         "32",
         "010515166119",
         "Volsemenhusen",
         "4,77"
        ],
        [
         "33",
         "010515169005",
         "Barkenholm",
         "5,63"
        ],
        [
         "34",
         "010515169008",
         "Bergewöhrden",
         "5,51"
        ],
        [
         "35",
         "010515169019",
         "Dellstedt",
         "4,94"
        ],
        [
         "36",
         "010515169020",
         "Delve",
         "4,91"
        ],
        [
         "37",
         "010515169023",
         "Dörpling",
         "5,1"
        ],
        [
         "38",
         "010515169030",
         "Fedderingen",
         "4,27"
        ],
        [
         "39",
         "010515169035",
         "Gaushorn",
         "6,09"
        ],
        [
         "40",
         "010515169036",
         "Glüsing",
         "4,48"
        ],
        [
         "41",
         "010515169038",
         "Groven",
         "5,23"
        ],
        [
         "42",
         "010515169047",
         "Hemme",
         "4,92"
        ],
        [
         "43",
         "010515169049",
         "Hennstedt",
         "5,78"
        ],
        [
         "44",
         "010515169052",
         "Hövede",
         "4,43"
        ],
        [
         "45",
         "010515169053",
         "Hollingstedt",
         "5,03"
        ],
        [
         "46",
         "010515169058",
         "Karolinenkoog",
         "4,51"
        ],
        [
         "47",
         "010515169060",
         "Kleve",
         "4,63"
        ],
        [
         "48",
         "010515169061",
         "Krempel",
         "5,04"
        ],
        [
         "49",
         "010515169065",
         "Lehe",
         "5,32"
        ]
       ],
       "shape": {
        "columns": 3,
        "rows": 10786
       }
      },
      "text/html": [
       "<div>\n",
       "<style scoped>\n",
       "    .dataframe tbody tr th:only-of-type {\n",
       "        vertical-align: middle;\n",
       "    }\n",
       "\n",
       "    .dataframe tbody tr th {\n",
       "        vertical-align: top;\n",
       "    }\n",
       "\n",
       "    .dataframe thead th {\n",
       "        text-align: right;\n",
       "    }\n",
       "</style>\n",
       "<table border=\"1\" class=\"dataframe\">\n",
       "  <thead>\n",
       "    <tr style=\"text-align: right;\">\n",
       "      <th></th>\n",
       "      <th>GKZ</th>\n",
       "      <th>Gemeindename</th>\n",
       "      <th>Miete_raw</th>\n",
       "    </tr>\n",
       "  </thead>\n",
       "  <tbody>\n",
       "    <tr>\n",
       "      <th>0</th>\n",
       "      <td>010010000000</td>\n",
       "      <td>Flensburg</td>\n",
       "      <td>6,96</td>\n",
       "    </tr>\n",
       "    <tr>\n",
       "      <th>1</th>\n",
       "      <td>010020000000</td>\n",
       "      <td>Kiel</td>\n",
       "      <td>7,64</td>\n",
       "    </tr>\n",
       "    <tr>\n",
       "      <th>2</th>\n",
       "      <td>010030000000</td>\n",
       "      <td>Lübeck</td>\n",
       "      <td>7,47</td>\n",
       "    </tr>\n",
       "    <tr>\n",
       "      <th>3</th>\n",
       "      <td>010040000000</td>\n",
       "      <td>Neumünster</td>\n",
       "      <td>6,22</td>\n",
       "    </tr>\n",
       "    <tr>\n",
       "      <th>4</th>\n",
       "      <td>010510011011</td>\n",
       "      <td>Brunsbüttel</td>\n",
       "      <td>5,74</td>\n",
       "    </tr>\n",
       "    <tr>\n",
       "      <th>...</th>\n",
       "      <td>...</td>\n",
       "      <td>...</td>\n",
       "      <td>...</td>\n",
       "    </tr>\n",
       "    <tr>\n",
       "      <th>10781</th>\n",
       "      <td>1,60775E+11</td>\n",
       "      <td>Göpfersdorf</td>\n",
       "      <td>4,19</td>\n",
       "    </tr>\n",
       "    <tr>\n",
       "      <th>10782</th>\n",
       "      <td>1,60775E+11</td>\n",
       "      <td>Langenleuba-Niederhain</td>\n",
       "      <td>4,4</td>\n",
       "    </tr>\n",
       "    <tr>\n",
       "      <th>10783</th>\n",
       "      <td>1,60775E+11</td>\n",
       "      <td>Nobitz</td>\n",
       "      <td>4,69</td>\n",
       "    </tr>\n",
       "    <tr>\n",
       "      <th>10784</th>\n",
       "      <td>1,60775E+11</td>\n",
       "      <td>Dobitschen</td>\n",
       "      <td>4,44</td>\n",
       "    </tr>\n",
       "    <tr>\n",
       "      <th>10785</th>\n",
       "      <td>1,60775E+11</td>\n",
       "      <td>Schmölln</td>\n",
       "      <td>4,96</td>\n",
       "    </tr>\n",
       "  </tbody>\n",
       "</table>\n",
       "<p>10786 rows × 3 columns</p>\n",
       "</div>"
      ],
      "text/plain": [
       "                GKZ            Gemeindename Miete_raw\n",
       "0      010010000000               Flensburg      6,96\n",
       "1      010020000000                    Kiel      7,64\n",
       "2      010030000000                  Lübeck      7,47\n",
       "3      010040000000              Neumünster      6,22\n",
       "4      010510011011             Brunsbüttel      5,74\n",
       "...             ...                     ...       ...\n",
       "10781   1,60775E+11             Göpfersdorf      4,19\n",
       "10782   1,60775E+11  Langenleuba-Niederhain       4,4\n",
       "10783   1,60775E+11                  Nobitz      4,69\n",
       "10784   1,60775E+11              Dobitschen      4,44\n",
       "10785   1,60775E+11                Schmölln      4,96\n",
       "\n",
       "[10786 rows x 3 columns]"
      ]
     },
     "execution_count": 12,
     "metadata": {},
     "output_type": "execute_result"
    }
   ],
   "source": [
    "df[\"Gemeindename\"] = df[\"Gemeindename\"].astype(str).str.split(\"(\", n=1).str[0].str.strip()\n",
    "df"
   ]
  },
  {
   "cell_type": "code",
   "execution_count": 15,
   "id": "99af9d27",
   "metadata": {},
   "outputs": [
    {
     "data": {
      "application/vnd.microsoft.datawrangler.viewer.v0+json": {
       "columns": [
        {
         "name": "index",
         "rawType": "int64",
         "type": "integer"
        },
        {
         "name": "GKZ",
         "rawType": "object",
         "type": "string"
        },
        {
         "name": "Gemeindename",
         "rawType": "object",
         "type": "string"
        },
        {
         "name": "Miete_raw",
         "rawType": "object",
         "type": "string"
        },
        {
         "name": "Miete",
         "rawType": "float64",
         "type": "float"
        }
       ],
       "ref": "d5d12481-d494-4fbf-b913-27ed3707dc87",
       "rows": [
        [
         "0",
         "010010000000",
         "Flensburg",
         "6,96",
         "6.96"
        ],
        [
         "1",
         "010020000000",
         "Kiel",
         "7,64",
         "7.64"
        ],
        [
         "2",
         "010030000000",
         "Lübeck",
         "7,47",
         "7.47"
        ],
        [
         "3",
         "010040000000",
         "Neumünster",
         "6,22",
         "6.22"
        ],
        [
         "4",
         "010510011011",
         "Brunsbüttel",
         "5,74",
         "5.74"
        ],
        [
         "5",
         "010510044044",
         "Heide",
         "6,68",
         "6.68"
        ],
        [
         "6",
         "010515163003",
         "Averlak",
         "5,12",
         "5.12"
        ],
        [
         "7",
         "010515163010",
         "Brickeln",
         "5,73",
         "5.73"
        ],
        [
         "8",
         "010515163012",
         "Buchholz",
         "5",
         "5.0"
        ],
        [
         "9",
         "010515163016",
         "Burg",
         "5,67",
         "5.67"
        ],
        [
         "10",
         "010515163022",
         "Dingen",
         "5,89",
         "5.89"
        ],
        [
         "11",
         "010515163024",
         "Eddelak",
         "4,83",
         "4.83"
        ],
        [
         "12",
         "010515163026",
         "Eggstedt",
         "4,97",
         "4.97"
        ],
        [
         "13",
         "010515163032",
         "Frestedt",
         "5,12",
         "5.12"
        ],
        [
         "14",
         "010515163037",
         "Großenrade",
         "4,9",
         "4.9"
        ],
        [
         "15",
         "010515163051",
         "Hochdonn",
         "5,09",
         "5.09"
        ],
        [
         "16",
         "010515163064",
         "Kuden",
         "4,95",
         "4.95"
        ],
        [
         "17",
         "010515163089",
         "Quickborn",
         "4,88",
         "4.88"
        ],
        [
         "18",
         "010515163097",
         "Sankt Michaelisdonn",
         "5,88",
         "5.88"
        ],
        [
         "19",
         "010515163110",
         "Süderhastedt",
         "5,05",
         "5.05"
        ],
        [
         "20",
         "010515166021",
         "Diekhusen-Fahrstedt",
         "6",
         "6.0"
        ],
        [
         "21",
         "010515166034",
         "Friedrichskoog",
         "6,1",
         "6.1"
        ],
        [
         "22",
         "010515166046",
         "Helse",
         "5,76",
         "5.76"
        ],
        [
         "23",
         "010515166057",
         "Kaiser-Wilhelm-Koog",
         "6,1",
         "6.1"
        ],
        [
         "24",
         "010515166062",
         "Kronprinzenkoog",
         "5,23",
         "5.23"
        ],
        [
         "25",
         "010515166072",
         "Marne",
         "6",
         "6.0"
        ],
        [
         "26",
         "010515166073",
         "Marnerdeich",
         "5,81",
         "5.81"
        ],
        [
         "27",
         "010515166076",
         "Neufeld",
         "5,37",
         "5.37"
        ],
        [
         "28",
         "010515166077",
         "Neufelderkoog",
         "3,74",
         "3.74"
        ],
        [
         "29",
         "010515166090",
         "Ramhusen",
         "5,23",
         "5.23"
        ],
        [
         "30",
         "010515166103",
         "Schmedeswurth",
         "5,27",
         "5.27"
        ],
        [
         "31",
         "010515166118",
         "Trennewurth",
         "4,38",
         "4.38"
        ],
        [
         "32",
         "010515166119",
         "Volsemenhusen",
         "4,77",
         "4.77"
        ],
        [
         "33",
         "010515169005",
         "Barkenholm",
         "5,63",
         "5.63"
        ],
        [
         "34",
         "010515169008",
         "Bergewöhrden",
         "5,51",
         "5.51"
        ],
        [
         "35",
         "010515169019",
         "Dellstedt",
         "4,94",
         "4.94"
        ],
        [
         "36",
         "010515169020",
         "Delve",
         "4,91",
         "4.91"
        ],
        [
         "37",
         "010515169023",
         "Dörpling",
         "5,1",
         "5.1"
        ],
        [
         "38",
         "010515169030",
         "Fedderingen",
         "4,27",
         "4.27"
        ],
        [
         "39",
         "010515169035",
         "Gaushorn",
         "6,09",
         "6.09"
        ],
        [
         "40",
         "010515169036",
         "Glüsing",
         "4,48",
         "4.48"
        ],
        [
         "41",
         "010515169038",
         "Groven",
         "5,23",
         "5.23"
        ],
        [
         "42",
         "010515169047",
         "Hemme",
         "4,92",
         "4.92"
        ],
        [
         "43",
         "010515169049",
         "Hennstedt",
         "5,78",
         "5.78"
        ],
        [
         "44",
         "010515169052",
         "Hövede",
         "4,43",
         "4.43"
        ],
        [
         "45",
         "010515169053",
         "Hollingstedt",
         "5,03",
         "5.03"
        ],
        [
         "46",
         "010515169058",
         "Karolinenkoog",
         "4,51",
         "4.51"
        ],
        [
         "47",
         "010515169060",
         "Kleve",
         "4,63",
         "4.63"
        ],
        [
         "48",
         "010515169061",
         "Krempel",
         "5,04",
         "5.04"
        ],
        [
         "49",
         "010515169065",
         "Lehe",
         "5,32",
         "5.32"
        ]
       ],
       "shape": {
        "columns": 4,
        "rows": 10786
       }
      },
      "text/html": [
       "<div>\n",
       "<style scoped>\n",
       "    .dataframe tbody tr th:only-of-type {\n",
       "        vertical-align: middle;\n",
       "    }\n",
       "\n",
       "    .dataframe tbody tr th {\n",
       "        vertical-align: top;\n",
       "    }\n",
       "\n",
       "    .dataframe thead th {\n",
       "        text-align: right;\n",
       "    }\n",
       "</style>\n",
       "<table border=\"1\" class=\"dataframe\">\n",
       "  <thead>\n",
       "    <tr style=\"text-align: right;\">\n",
       "      <th></th>\n",
       "      <th>GKZ</th>\n",
       "      <th>Gemeindename</th>\n",
       "      <th>Miete_raw</th>\n",
       "      <th>Miete</th>\n",
       "    </tr>\n",
       "  </thead>\n",
       "  <tbody>\n",
       "    <tr>\n",
       "      <th>0</th>\n",
       "      <td>010010000000</td>\n",
       "      <td>Flensburg</td>\n",
       "      <td>6,96</td>\n",
       "      <td>6.96</td>\n",
       "    </tr>\n",
       "    <tr>\n",
       "      <th>1</th>\n",
       "      <td>010020000000</td>\n",
       "      <td>Kiel</td>\n",
       "      <td>7,64</td>\n",
       "      <td>7.64</td>\n",
       "    </tr>\n",
       "    <tr>\n",
       "      <th>2</th>\n",
       "      <td>010030000000</td>\n",
       "      <td>Lübeck</td>\n",
       "      <td>7,47</td>\n",
       "      <td>7.47</td>\n",
       "    </tr>\n",
       "    <tr>\n",
       "      <th>3</th>\n",
       "      <td>010040000000</td>\n",
       "      <td>Neumünster</td>\n",
       "      <td>6,22</td>\n",
       "      <td>6.22</td>\n",
       "    </tr>\n",
       "    <tr>\n",
       "      <th>4</th>\n",
       "      <td>010510011011</td>\n",
       "      <td>Brunsbüttel</td>\n",
       "      <td>5,74</td>\n",
       "      <td>5.74</td>\n",
       "    </tr>\n",
       "    <tr>\n",
       "      <th>...</th>\n",
       "      <td>...</td>\n",
       "      <td>...</td>\n",
       "      <td>...</td>\n",
       "      <td>...</td>\n",
       "    </tr>\n",
       "    <tr>\n",
       "      <th>10781</th>\n",
       "      <td>1,60775E+11</td>\n",
       "      <td>Göpfersdorf</td>\n",
       "      <td>4,19</td>\n",
       "      <td>4.19</td>\n",
       "    </tr>\n",
       "    <tr>\n",
       "      <th>10782</th>\n",
       "      <td>1,60775E+11</td>\n",
       "      <td>Langenleuba-Niederhain</td>\n",
       "      <td>4,4</td>\n",
       "      <td>4.40</td>\n",
       "    </tr>\n",
       "    <tr>\n",
       "      <th>10783</th>\n",
       "      <td>1,60775E+11</td>\n",
       "      <td>Nobitz</td>\n",
       "      <td>4,69</td>\n",
       "      <td>4.69</td>\n",
       "    </tr>\n",
       "    <tr>\n",
       "      <th>10784</th>\n",
       "      <td>1,60775E+11</td>\n",
       "      <td>Dobitschen</td>\n",
       "      <td>4,44</td>\n",
       "      <td>4.44</td>\n",
       "    </tr>\n",
       "    <tr>\n",
       "      <th>10785</th>\n",
       "      <td>1,60775E+11</td>\n",
       "      <td>Schmölln</td>\n",
       "      <td>4,96</td>\n",
       "      <td>4.96</td>\n",
       "    </tr>\n",
       "  </tbody>\n",
       "</table>\n",
       "<p>10786 rows × 4 columns</p>\n",
       "</div>"
      ],
      "text/plain": [
       "                GKZ            Gemeindename Miete_raw  Miete\n",
       "0      010010000000               Flensburg      6,96   6.96\n",
       "1      010020000000                    Kiel      7,64   7.64\n",
       "2      010030000000                  Lübeck      7,47   7.47\n",
       "3      010040000000              Neumünster      6,22   6.22\n",
       "4      010510011011             Brunsbüttel      5,74   5.74\n",
       "...             ...                     ...       ...    ...\n",
       "10781   1,60775E+11             Göpfersdorf      4,19   4.19\n",
       "10782   1,60775E+11  Langenleuba-Niederhain       4,4   4.40\n",
       "10783   1,60775E+11                  Nobitz      4,69   4.69\n",
       "10784   1,60775E+11              Dobitschen      4,44   4.44\n",
       "10785   1,60775E+11                Schmölln      4,96   4.96\n",
       "\n",
       "[10786 rows x 4 columns]"
      ]
     },
     "execution_count": 15,
     "metadata": {},
     "output_type": "execute_result"
    }
   ],
   "source": [
    "# Miete in float umwandeln\n",
    "#    - Leerzeichen weg\n",
    "#    - Euro/Einheiten weg\n",
    "#    - deutsches Komma in Punkt umwandeln\n",
    "def to_float_de(s):\n",
    "    if pd.isna(s): \n",
    "        return None\n",
    "    s = str(s)\n",
    "    s = s.replace(\"€\", \"\").replace(\"€/m²\", \"\").strip()\n",
    "    s = s.replace(\".\", \"\")      # tausenderpunkte weg (falls vorhanden)\n",
    "    s = s.replace(\",\", \".\")     # deutsches Komma -> Punkt\n",
    "    try:\n",
    "        return float(s)\n",
    "    except:\n",
    "        return None\n",
    "df[\"Miete\"] = df[\"Miete_raw\"].map(to_float_de)\n",
    "df"
   ]
  },
  {
   "cell_type": "code",
   "execution_count": 19,
   "id": "26257dfb",
   "metadata": {},
   "outputs": [
    {
     "data": {
      "application/vnd.microsoft.datawrangler.viewer.v0+json": {
       "columns": [
        {
         "name": "index",
         "rawType": "int64",
         "type": "integer"
        },
        {
         "name": "GKZ",
         "rawType": "object",
         "type": "string"
        },
        {
         "name": "Gemeindename",
         "rawType": "object",
         "type": "string"
        },
        {
         "name": "Miete_raw",
         "rawType": "object",
         "type": "string"
        },
        {
         "name": "Miete",
         "rawType": "float64",
         "type": "float"
        }
       ],
       "ref": "0a960226-9932-4307-8da0-7d2dbcc3ba50",
       "rows": [
        [
         "0",
         "010010000000",
         "Flensburg",
         "6,96",
         "6.96"
        ],
        [
         "1",
         "010020000000",
         "Kiel",
         "7,64",
         "7.64"
        ],
        [
         "2",
         "010030000000",
         "Lübeck",
         "7,47",
         "7.47"
        ],
        [
         "3",
         "010040000000",
         "Neumünster",
         "6,22",
         "6.22"
        ],
        [
         "4",
         "010510011011",
         "Brunsbüttel",
         "5,74",
         "5.74"
        ],
        [
         "5",
         "010510044044",
         "Heide",
         "6,68",
         "6.68"
        ],
        [
         "6",
         "010515163003",
         "Averlak",
         "5,12",
         "5.12"
        ],
        [
         "7",
         "010515163010",
         "Brickeln",
         "5,73",
         "5.73"
        ],
        [
         "8",
         "010515163012",
         "Buchholz",
         "5",
         "5.0"
        ],
        [
         "9",
         "010515163016",
         "Burg",
         "5,67",
         "5.67"
        ],
        [
         "10",
         "010515163022",
         "Dingen",
         "5,89",
         "5.89"
        ],
        [
         "11",
         "010515163024",
         "Eddelak",
         "4,83",
         "4.83"
        ],
        [
         "12",
         "010515163026",
         "Eggstedt",
         "4,97",
         "4.97"
        ],
        [
         "13",
         "010515163032",
         "Frestedt",
         "5,12",
         "5.12"
        ],
        [
         "14",
         "010515163037",
         "Großenrade",
         "4,9",
         "4.9"
        ],
        [
         "15",
         "010515163051",
         "Hochdonn",
         "5,09",
         "5.09"
        ],
        [
         "16",
         "010515163064",
         "Kuden",
         "4,95",
         "4.95"
        ],
        [
         "17",
         "010515163089",
         "Quickborn",
         "4,88",
         "4.88"
        ],
        [
         "18",
         "010515163097",
         "Sankt Michaelisdonn",
         "5,88",
         "5.88"
        ],
        [
         "19",
         "010515163110",
         "Süderhastedt",
         "5,05",
         "5.05"
        ],
        [
         "20",
         "010515166021",
         "Diekhusen-Fahrstedt",
         "6",
         "6.0"
        ],
        [
         "21",
         "010515166034",
         "Friedrichskoog",
         "6,1",
         "6.1"
        ],
        [
         "22",
         "010515166046",
         "Helse",
         "5,76",
         "5.76"
        ],
        [
         "23",
         "010515166057",
         "Kaiser-Wilhelm-Koog",
         "6,1",
         "6.1"
        ],
        [
         "24",
         "010515166062",
         "Kronprinzenkoog",
         "5,23",
         "5.23"
        ],
        [
         "25",
         "010515166072",
         "Marne",
         "6",
         "6.0"
        ],
        [
         "26",
         "010515166073",
         "Marnerdeich",
         "5,81",
         "5.81"
        ],
        [
         "27",
         "010515166076",
         "Neufeld",
         "5,37",
         "5.37"
        ],
        [
         "28",
         "010515166077",
         "Neufelderkoog",
         "3,74",
         "3.74"
        ],
        [
         "29",
         "010515166090",
         "Ramhusen",
         "5,23",
         "5.23"
        ],
        [
         "30",
         "010515166103",
         "Schmedeswurth",
         "5,27",
         "5.27"
        ],
        [
         "31",
         "010515166118",
         "Trennewurth",
         "4,38",
         "4.38"
        ],
        [
         "32",
         "010515166119",
         "Volsemenhusen",
         "4,77",
         "4.77"
        ],
        [
         "33",
         "010515169005",
         "Barkenholm",
         "5,63",
         "5.63"
        ],
        [
         "34",
         "010515169008",
         "Bergewöhrden",
         "5,51",
         "5.51"
        ],
        [
         "35",
         "010515169019",
         "Dellstedt",
         "4,94",
         "4.94"
        ],
        [
         "36",
         "010515169020",
         "Delve",
         "4,91",
         "4.91"
        ],
        [
         "37",
         "010515169023",
         "Dörpling",
         "5,1",
         "5.1"
        ],
        [
         "38",
         "010515169030",
         "Fedderingen",
         "4,27",
         "4.27"
        ],
        [
         "39",
         "010515169035",
         "Gaushorn",
         "6,09",
         "6.09"
        ],
        [
         "40",
         "010515169036",
         "Glüsing",
         "4,48",
         "4.48"
        ],
        [
         "41",
         "010515169038",
         "Groven",
         "5,23",
         "5.23"
        ],
        [
         "42",
         "010515169047",
         "Hemme",
         "4,92",
         "4.92"
        ],
        [
         "43",
         "010515169049",
         "Hennstedt",
         "5,78",
         "5.78"
        ],
        [
         "44",
         "010515169052",
         "Hövede",
         "4,43",
         "4.43"
        ],
        [
         "45",
         "010515169053",
         "Hollingstedt",
         "5,03",
         "5.03"
        ],
        [
         "46",
         "010515169058",
         "Karolinenkoog",
         "4,51",
         "4.51"
        ],
        [
         "47",
         "010515169060",
         "Kleve",
         "4,63",
         "4.63"
        ],
        [
         "48",
         "010515169061",
         "Krempel",
         "5,04",
         "5.04"
        ],
        [
         "49",
         "010515169065",
         "Lehe",
         "5,32",
         "5.32"
        ]
       ],
       "shape": {
        "columns": 4,
        "rows": 10713
       }
      },
      "text/html": [
       "<div>\n",
       "<style scoped>\n",
       "    .dataframe tbody tr th:only-of-type {\n",
       "        vertical-align: middle;\n",
       "    }\n",
       "\n",
       "    .dataframe tbody tr th {\n",
       "        vertical-align: top;\n",
       "    }\n",
       "\n",
       "    .dataframe thead th {\n",
       "        text-align: right;\n",
       "    }\n",
       "</style>\n",
       "<table border=\"1\" class=\"dataframe\">\n",
       "  <thead>\n",
       "    <tr style=\"text-align: right;\">\n",
       "      <th></th>\n",
       "      <th>GKZ</th>\n",
       "      <th>Gemeindename</th>\n",
       "      <th>Miete_raw</th>\n",
       "      <th>Miete</th>\n",
       "    </tr>\n",
       "  </thead>\n",
       "  <tbody>\n",
       "    <tr>\n",
       "      <th>0</th>\n",
       "      <td>010010000000</td>\n",
       "      <td>Flensburg</td>\n",
       "      <td>6,96</td>\n",
       "      <td>6.96</td>\n",
       "    </tr>\n",
       "    <tr>\n",
       "      <th>1</th>\n",
       "      <td>010020000000</td>\n",
       "      <td>Kiel</td>\n",
       "      <td>7,64</td>\n",
       "      <td>7.64</td>\n",
       "    </tr>\n",
       "    <tr>\n",
       "      <th>2</th>\n",
       "      <td>010030000000</td>\n",
       "      <td>Lübeck</td>\n",
       "      <td>7,47</td>\n",
       "      <td>7.47</td>\n",
       "    </tr>\n",
       "    <tr>\n",
       "      <th>3</th>\n",
       "      <td>010040000000</td>\n",
       "      <td>Neumünster</td>\n",
       "      <td>6,22</td>\n",
       "      <td>6.22</td>\n",
       "    </tr>\n",
       "    <tr>\n",
       "      <th>4</th>\n",
       "      <td>010510011011</td>\n",
       "      <td>Brunsbüttel</td>\n",
       "      <td>5,74</td>\n",
       "      <td>5.74</td>\n",
       "    </tr>\n",
       "    <tr>\n",
       "      <th>...</th>\n",
       "      <td>...</td>\n",
       "      <td>...</td>\n",
       "      <td>...</td>\n",
       "      <td>...</td>\n",
       "    </tr>\n",
       "    <tr>\n",
       "      <th>10781</th>\n",
       "      <td>1,60775E+11</td>\n",
       "      <td>Göpfersdorf</td>\n",
       "      <td>4,19</td>\n",
       "      <td>4.19</td>\n",
       "    </tr>\n",
       "    <tr>\n",
       "      <th>10782</th>\n",
       "      <td>1,60775E+11</td>\n",
       "      <td>Langenleuba-Niederhain</td>\n",
       "      <td>4,4</td>\n",
       "      <td>4.40</td>\n",
       "    </tr>\n",
       "    <tr>\n",
       "      <th>10783</th>\n",
       "      <td>1,60775E+11</td>\n",
       "      <td>Nobitz</td>\n",
       "      <td>4,69</td>\n",
       "      <td>4.69</td>\n",
       "    </tr>\n",
       "    <tr>\n",
       "      <th>10784</th>\n",
       "      <td>1,60775E+11</td>\n",
       "      <td>Dobitschen</td>\n",
       "      <td>4,44</td>\n",
       "      <td>4.44</td>\n",
       "    </tr>\n",
       "    <tr>\n",
       "      <th>10785</th>\n",
       "      <td>1,60775E+11</td>\n",
       "      <td>Schmölln</td>\n",
       "      <td>4,96</td>\n",
       "      <td>4.96</td>\n",
       "    </tr>\n",
       "  </tbody>\n",
       "</table>\n",
       "<p>10713 rows × 4 columns</p>\n",
       "</div>"
      ],
      "text/plain": [
       "                GKZ            Gemeindename Miete_raw  Miete\n",
       "0      010010000000               Flensburg      6,96   6.96\n",
       "1      010020000000                    Kiel      7,64   7.64\n",
       "2      010030000000                  Lübeck      7,47   7.47\n",
       "3      010040000000              Neumünster      6,22   6.22\n",
       "4      010510011011             Brunsbüttel      5,74   5.74\n",
       "...             ...                     ...       ...    ...\n",
       "10781   1,60775E+11             Göpfersdorf      4,19   4.19\n",
       "10782   1,60775E+11  Langenleuba-Niederhain       4,4   4.40\n",
       "10783   1,60775E+11                  Nobitz      4,69   4.69\n",
       "10784   1,60775E+11              Dobitschen      4,44   4.44\n",
       "10785   1,60775E+11                Schmölln      4,96   4.96\n",
       "\n",
       "[10713 rows x 4 columns]"
      ]
     },
     "execution_count": 19,
     "metadata": {},
     "output_type": "execute_result"
    }
   ],
   "source": [
    "df = df.dropna(subset=[\"Miete\"])\n",
    "df"
   ]
  },
  {
   "cell_type": "code",
   "execution_count": 25,
   "id": "2375bf88",
   "metadata": {},
   "outputs": [],
   "source": [
    "df = df.drop(columns=[\"Miete_raw\"])"
   ]
  },
  {
   "cell_type": "code",
   "execution_count": 26,
   "id": "a0b15987",
   "metadata": {},
   "outputs": [
    {
     "name": "stdout",
     "output_type": "stream",
     "text": [
      "\n",
      "Datentypen:\n",
      "GKZ              object\n",
      "Gemeindename     object\n",
      "Miete           float64\n",
      "dtype: object\n"
     ]
    }
   ],
   "source": [
    "# --- 3. Datentypen prüfen ---\n",
    "print(\"\\nDatentypen:\")\n",
    "print(df.dtypes)"
   ]
  },
  {
   "cell_type": "code",
   "execution_count": 27,
   "id": "761100df",
   "metadata": {},
   "outputs": [
    {
     "name": "stdout",
     "output_type": "stream",
     "text": [
      "\n",
      "Fehlende Werte (in %):\n",
      "GKZ             0.0\n",
      "Gemeindename    0.0\n",
      "Miete           0.0\n",
      "dtype: float64\n"
     ]
    }
   ],
   "source": [
    "# --- 4. Fehlende Werte prüfen ---\n",
    "print(\"\\nFehlende Werte (in %):\")\n",
    "print(df.isna().mean().sort_values(ascending=False).head(10))"
   ]
  },
  {
   "cell_type": "code",
   "execution_count": 28,
   "id": "f221cf4e",
   "metadata": {},
   "outputs": [
    {
     "name": "stdout",
     "output_type": "stream",
     "text": [
      "\n",
      "Basisstatistik:\n",
      "                GKZ  Gemeindename         Miete\n",
      "count         10713         10713  10713.000000\n",
      "unique         8439         10120           NaN\n",
      "top     1,30715E+11  Neuenkirchen           NaN\n",
      "freq            141            11           NaN\n",
      "mean            NaN           NaN      5.776486\n",
      "std             NaN           NaN      1.323485\n",
      "min             NaN           NaN      0.090000\n",
      "25%             NaN           NaN      4.830000\n",
      "50%             NaN           NaN      5.540000\n",
      "75%             NaN           NaN      6.460000\n",
      "max             NaN           NaN     13.840000\n"
     ]
    }
   ],
   "source": [
    "# --- 5. Basisstatistik ---\n",
    "print(\"\\nBasisstatistik:\")\n",
    "print(df.describe(include=\"all\"))"
   ]
  },
  {
   "cell_type": "code",
   "execution_count": 30,
   "id": "363914ad",
   "metadata": {},
   "outputs": [
    {
     "name": "stdout",
     "output_type": "stream",
     "text": [
      "\n",
      "Eindeutige GKZ: 8439\n",
      "Duplikate? True\n"
     ]
    }
   ],
   "source": [
    "# --- 6. Eindeutigkeit der GKZ prüfen ---\n",
    "print(\"\\nEindeutige GKZ:\", df[\"GKZ\"].nunique())\n",
    "print(\"Duplikate?\", df[\"GKZ\"].duplicated().any())"
   ]
  },
  {
   "cell_type": "code",
   "execution_count": 31,
   "id": "c972c3d7",
   "metadata": {},
   "outputs": [
    {
     "name": "stdout",
     "output_type": "stream",
     "text": [
      "Zeilen gesamt: 10713\n",
      "Eindeutige GKZ: 8439\n",
      "Hat Duplikate (GKZ)? True\n",
      "\n",
      "Beispiele:\n",
      "            GKZ Gemeindename  Miete\n",
      "0  010010000000    Flensburg   6.96\n",
      "1  010020000000         Kiel   7.64\n",
      "2  010030000000       Lübeck   7.47\n",
      "3  010040000000   Neumünster   6.22\n",
      "4  010510011011  Brunsbüttel   5.74\n",
      "5  010510044044        Heide   6.68\n",
      "6  010515163003      Averlak   5.12\n",
      "7  010515163010     Brickeln   5.73\n",
      "8  010515163012     Buchholz   5.00\n",
      "9  010515163016         Burg   5.67\n"
     ]
    }
   ],
   "source": [
    "# 7) Übersicht drucken\n",
    "print(\"Zeilen gesamt:\", len(df))\n",
    "print(\"Eindeutige GKZ:\", df[\"GKZ\"].nunique())\n",
    "print(\"Hat Duplikate (GKZ)?\", df[\"GKZ\"].duplicated().any())\n",
    "print(\"\\nBeispiele:\")\n",
    "print(df.head(10))"
   ]
  },
  {
   "cell_type": "code",
   "execution_count": 32,
   "id": "3cb48e75",
   "metadata": {},
   "outputs": [
    {
     "name": "stdout",
     "output_type": "stream",
     "text": [
      "\n",
      "Gespeichert → ../data/clean/zensus_0004_clean.csv\n",
      "Finale Spalten: ['GKZ', 'Gemeindename', 'Miete']\n"
     ]
    }
   ],
   "source": [
    "# 8) Speichern\n",
    "import os, re\n",
    "out_dir = \"../data/clean\"\n",
    "os.makedirs(out_dir, exist_ok=True)\n",
    "out_path = f\"{out_dir}/zensus_0004_clean.csv\"\n",
    "df.to_csv(out_path, index=False, encoding=\"utf-8\")  # Komma-getrennt\n",
    "print(\"\\nGespeichert →\", out_path)\n",
    "print(\"Finale Spalten:\", df.columns.tolist())"
   ]
  }
 ],
 "metadata": {
  "kernelspec": {
   "display_name": ".venv311",
   "language": "python",
   "name": "python3"
  },
  "language_info": {
   "codemirror_mode": {
    "name": "ipython",
    "version": 3
   },
   "file_extension": ".py",
   "mimetype": "text/x-python",
   "name": "python",
   "nbconvert_exporter": "python",
   "pygments_lexer": "ipython3",
   "version": "3.11.9"
  }
 },
 "nbformat": 4,
 "nbformat_minor": 5
}
