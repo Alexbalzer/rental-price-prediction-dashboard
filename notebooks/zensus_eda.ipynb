{
 "cells": [
  {
   "cell_type": "markdown",
   "id": "68b83279",
   "metadata": {},
   "source": [
    "#### 4000W-0004 Durchschnittliche Nettokaltmiete\n",
    "#### 4000W-0005 Durchschnittliche Nettokaltmiete nach Baujahr (Jahrzehnte)\n",
    "#### 4000W-0006 Durchschnittliche Nettokaltmiete nach Eigentumsform des Gebäudes\n",
    "#### 4000W-0007 Durchschnittliche Nettokaltmiete nach Energieträger der Heizung\n",
    "#### 4000W-0008 Durchschnittliche Nettokaltmiete nach Fläche der Wohnung (10 m²-Intervalle)\n"
   ]
  },
  {
   "cell_type": "code",
   "execution_count": 12,
   "id": "238a5e9f",
   "metadata": {},
   "outputs": [
    {
     "name": "stdout",
     "output_type": "stream",
     "text": [
      "Datei: D:\\Hausverwaltung\\rental-price-prediction-dashboard\\data\\4000W-0004_de.csv | existiert: True\n"
     ]
    }
   ],
   "source": [
    "from pathlib import Path\n",
    "import re\n",
    "import numpy as np\n",
    "import pandas as pd\n",
    "\n",
    "\n",
    "# fester Pfad relativ zum Notebook\n",
    "DATA = Path(\"../data\")\n",
    "CSV_0004 = DATA / \"4000W-0004_de.csv\"\n",
    "CLEAN = DATA / \"clean\"\n",
    "CLEAN.mkdir(exist_ok=True)\n",
    "\n",
    "print(\"Datei:\", CSV_0004.resolve(), \"| existiert:\", CSV_0004.exists())\n",
    "\n"
   ]
  },
  {
   "cell_type": "code",
   "execution_count": 5,
   "id": "b5a40656",
   "metadata": {},
   "outputs": [
    {
     "data": {
      "application/vnd.microsoft.datawrangler.viewer.v0+json": {
       "columns": [
        {
         "name": "index",
         "rawType": "int64",
         "type": "integer"
        },
        {
         "name": "GKZ",
         "rawType": "object",
         "type": "string"
        },
        {
         "name": "Gemeindename",
         "rawType": "object",
         "type": "string"
        },
        {
         "name": "Miete_raw",
         "rawType": "object",
         "type": "string"
        }
       ],
       "ref": "8b5d239f-0e51-486a-9daf-a4113c887d16",
       "rows": [
        [
         "0",
         "010010000000",
         "Flensburg, Stadt",
         "6,96"
        ],
        [
         "1",
         "010020000000",
         "Kiel, Landeshauptstadt",
         "7,64"
        ],
        [
         "2",
         "010030000000",
         "Lübeck, Hansestadt",
         "7,47"
        ],
        [
         "3",
         "010040000000",
         "Neumünster, Stadt",
         "6,22"
        ],
        [
         "4",
         "010510011011",
         "Brunsbüttel, Stadt",
         "5,74"
        ],
        [
         "5",
         "010510044044",
         "Heide, Stadt",
         "6,68"
        ],
        [
         "6",
         "010515163003",
         "Averlak",
         "5,12"
        ],
        [
         "7",
         "010515163010",
         "Brickeln",
         "5,73"
        ],
        [
         "8",
         "010515163012",
         "Buchholz (Kreis Dithmarschen)",
         "5"
        ],
        [
         "9",
         "010515163016",
         "Burg (Dithmarschen)",
         "5,67"
        ],
        [
         "10",
         "010515163022",
         "Dingen",
         "5,89"
        ],
        [
         "11",
         "010515163024",
         "Eddelak",
         "4,83"
        ],
        [
         "12",
         "010515163026",
         "Eggstedt",
         "4,97"
        ],
        [
         "13",
         "010515163032",
         "Frestedt",
         "5,12"
        ],
        [
         "14",
         "010515163037",
         "Großenrade",
         "4,9"
        ],
        [
         "15",
         "010515163051",
         "Hochdonn",
         "5,09"
        ],
        [
         "16",
         "010515163064",
         "Kuden",
         "4,95"
        ],
        [
         "17",
         "010515163089",
         "Quickborn",
         "4,88"
        ],
        [
         "18",
         "010515163097",
         "Sankt Michaelisdonn",
         "5,88"
        ],
        [
         "19",
         "010515163110",
         "Süderhastedt",
         "5,05"
        ],
        [
         "20",
         "010515166021",
         "Diekhusen-Fahrstedt",
         "6"
        ],
        [
         "21",
         "010515166034",
         "Friedrichskoog",
         "6,1"
        ],
        [
         "22",
         "010515166046",
         "Helse",
         "5,76"
        ],
        [
         "23",
         "010515166057",
         "Kaiser-Wilhelm-Koog",
         "6,1"
        ],
        [
         "24",
         "010515166062",
         "Kronprinzenkoog",
         "5,23"
        ],
        [
         "25",
         "010515166072",
         "Marne, Stadt",
         "6"
        ],
        [
         "26",
         "010515166073",
         "Marnerdeich",
         "5,81"
        ],
        [
         "27",
         "010515166076",
         "Neufeld",
         "5,37"
        ],
        [
         "28",
         "010515166077",
         "Neufelderkoog",
         "3,74"
        ],
        [
         "29",
         "010515166090",
         "Ramhusen",
         "5,23"
        ],
        [
         "30",
         "010515166103",
         "Schmedeswurth",
         "5,27"
        ],
        [
         "31",
         "010515166118",
         "Trennewurth",
         "4,38"
        ],
        [
         "32",
         "010515166119",
         "Volsemenhusen",
         "4,77"
        ],
        [
         "33",
         "010515169005",
         "Barkenholm",
         "5,63"
        ],
        [
         "34",
         "010515169008",
         "Bergewöhrden",
         "5,51"
        ],
        [
         "35",
         "010515169019",
         "Dellstedt",
         "4,94"
        ],
        [
         "36",
         "010515169020",
         "Delve",
         "4,91"
        ],
        [
         "37",
         "010515169023",
         "Dörpling",
         "5,1"
        ],
        [
         "38",
         "010515169030",
         "Fedderingen",
         "4,27"
        ],
        [
         "39",
         "010515169035",
         "Gaushorn",
         "6,09"
        ],
        [
         "40",
         "010515169036",
         "Glüsing",
         "4,48"
        ],
        [
         "41",
         "010515169038",
         "Groven",
         "5,23"
        ],
        [
         "42",
         "010515169047",
         "Hemme",
         "4,92"
        ],
        [
         "43",
         "010515169049",
         "Hennstedt (Kreis Dithmarschen)",
         "5,78"
        ],
        [
         "44",
         "010515169052",
         "Hövede",
         "4,43"
        ],
        [
         "45",
         "010515169053",
         "Hollingstedt (Kreis Dithmarschen)",
         "5,03"
        ],
        [
         "46",
         "010515169058",
         "Karolinenkoog",
         "4,51"
        ],
        [
         "47",
         "010515169060",
         "Kleve (Kreis Dithmarschen)",
         "4,63"
        ],
        [
         "48",
         "010515169061",
         "Krempel",
         "5,04"
        ],
        [
         "49",
         "010515169065",
         "Lehe (Kreis Dithmarschen)",
         "5,32"
        ]
       ],
       "shape": {
        "columns": 3,
        "rows": 10786
       }
      },
      "text/html": [
       "<div>\n",
       "<style scoped>\n",
       "    .dataframe tbody tr th:only-of-type {\n",
       "        vertical-align: middle;\n",
       "    }\n",
       "\n",
       "    .dataframe tbody tr th {\n",
       "        vertical-align: top;\n",
       "    }\n",
       "\n",
       "    .dataframe thead th {\n",
       "        text-align: right;\n",
       "    }\n",
       "</style>\n",
       "<table border=\"1\" class=\"dataframe\">\n",
       "  <thead>\n",
       "    <tr style=\"text-align: right;\">\n",
       "      <th></th>\n",
       "      <th>GKZ</th>\n",
       "      <th>Gemeindename</th>\n",
       "      <th>Miete_raw</th>\n",
       "    </tr>\n",
       "  </thead>\n",
       "  <tbody>\n",
       "    <tr>\n",
       "      <th>0</th>\n",
       "      <td>010010000000</td>\n",
       "      <td>Flensburg, Stadt</td>\n",
       "      <td>6,96</td>\n",
       "    </tr>\n",
       "    <tr>\n",
       "      <th>1</th>\n",
       "      <td>010020000000</td>\n",
       "      <td>Kiel, Landeshauptstadt</td>\n",
       "      <td>7,64</td>\n",
       "    </tr>\n",
       "    <tr>\n",
       "      <th>2</th>\n",
       "      <td>010030000000</td>\n",
       "      <td>Lübeck, Hansestadt</td>\n",
       "      <td>7,47</td>\n",
       "    </tr>\n",
       "    <tr>\n",
       "      <th>3</th>\n",
       "      <td>010040000000</td>\n",
       "      <td>Neumünster, Stadt</td>\n",
       "      <td>6,22</td>\n",
       "    </tr>\n",
       "    <tr>\n",
       "      <th>4</th>\n",
       "      <td>010510011011</td>\n",
       "      <td>Brunsbüttel, Stadt</td>\n",
       "      <td>5,74</td>\n",
       "    </tr>\n",
       "    <tr>\n",
       "      <th>...</th>\n",
       "      <td>...</td>\n",
       "      <td>...</td>\n",
       "      <td>...</td>\n",
       "    </tr>\n",
       "    <tr>\n",
       "      <th>10781</th>\n",
       "      <td>1,60775E+11</td>\n",
       "      <td>Göpfersdorf</td>\n",
       "      <td>4,19</td>\n",
       "    </tr>\n",
       "    <tr>\n",
       "      <th>10782</th>\n",
       "      <td>1,60775E+11</td>\n",
       "      <td>Langenleuba-Niederhain</td>\n",
       "      <td>4,4</td>\n",
       "    </tr>\n",
       "    <tr>\n",
       "      <th>10783</th>\n",
       "      <td>1,60775E+11</td>\n",
       "      <td>Nobitz</td>\n",
       "      <td>4,69</td>\n",
       "    </tr>\n",
       "    <tr>\n",
       "      <th>10784</th>\n",
       "      <td>1,60775E+11</td>\n",
       "      <td>Dobitschen</td>\n",
       "      <td>4,44</td>\n",
       "    </tr>\n",
       "    <tr>\n",
       "      <th>10785</th>\n",
       "      <td>1,60775E+11</td>\n",
       "      <td>Schmölln, Stadt</td>\n",
       "      <td>4,96</td>\n",
       "    </tr>\n",
       "  </tbody>\n",
       "</table>\n",
       "<p>10786 rows × 3 columns</p>\n",
       "</div>"
      ],
      "text/plain": [
       "                GKZ            Gemeindename Miete_raw\n",
       "0      010010000000        Flensburg, Stadt      6,96\n",
       "1      010020000000  Kiel, Landeshauptstadt      7,64\n",
       "2      010030000000      Lübeck, Hansestadt      7,47\n",
       "3      010040000000       Neumünster, Stadt      6,22\n",
       "4      010510011011      Brunsbüttel, Stadt      5,74\n",
       "...             ...                     ...       ...\n",
       "10781   1,60775E+11             Göpfersdorf      4,19\n",
       "10782   1,60775E+11  Langenleuba-Niederhain       4,4\n",
       "10783   1,60775E+11                  Nobitz      4,69\n",
       "10784   1,60775E+11              Dobitschen      4,44\n",
       "10785   1,60775E+11         Schmölln, Stadt      4,96\n",
       "\n",
       "[10786 rows x 3 columns]"
      ]
     },
     "execution_count": 5,
     "metadata": {},
     "output_type": "execute_result"
    }
   ],
   "source": [
    "df = pd.read_csv(\"../data/4000W-0004_de.csv\", sep=\";\", header=None, names=[\"GKZ\",\"Gemeindename\",\"Miete_raw\"], encoding=\"utf-8-sig\")\n",
    "df"
   ]
  },
  {
   "cell_type": "code",
   "execution_count": 10,
   "id": "ec125aa3",
   "metadata": {},
   "outputs": [
    {
     "data": {
      "application/vnd.microsoft.datawrangler.viewer.v0+json": {
       "columns": [
        {
         "name": "index",
         "rawType": "int64",
         "type": "integer"
        },
        {
         "name": "GKZ",
         "rawType": "object",
         "type": "string"
        },
        {
         "name": "Gemeindename",
         "rawType": "object",
         "type": "string"
        },
        {
         "name": "Miete_raw",
         "rawType": "object",
         "type": "string"
        }
       ],
       "ref": "0988ec28-2cf8-405a-86e8-efaf62bf4ce5",
       "rows": [
        [
         "0",
         "010010000000",
         "Flensburg",
         "6,96"
        ],
        [
         "1",
         "010020000000",
         "Kiel",
         "7,64"
        ],
        [
         "2",
         "010030000000",
         "Lübeck",
         "7,47"
        ],
        [
         "3",
         "010040000000",
         "Neumünster",
         "6,22"
        ],
        [
         "4",
         "010510011011",
         "Brunsbüttel",
         "5,74"
        ],
        [
         "5",
         "010510044044",
         "Heide",
         "6,68"
        ],
        [
         "6",
         "010515163003",
         "Averlak",
         "5,12"
        ],
        [
         "7",
         "010515163010",
         "Brickeln",
         "5,73"
        ],
        [
         "8",
         "010515163012",
         "Buchholz (Kreis Dithmarschen)",
         "5"
        ],
        [
         "9",
         "010515163016",
         "Burg (Dithmarschen)",
         "5,67"
        ],
        [
         "10",
         "010515163022",
         "Dingen",
         "5,89"
        ],
        [
         "11",
         "010515163024",
         "Eddelak",
         "4,83"
        ],
        [
         "12",
         "010515163026",
         "Eggstedt",
         "4,97"
        ],
        [
         "13",
         "010515163032",
         "Frestedt",
         "5,12"
        ],
        [
         "14",
         "010515163037",
         "Großenrade",
         "4,9"
        ],
        [
         "15",
         "010515163051",
         "Hochdonn",
         "5,09"
        ],
        [
         "16",
         "010515163064",
         "Kuden",
         "4,95"
        ],
        [
         "17",
         "010515163089",
         "Quickborn",
         "4,88"
        ],
        [
         "18",
         "010515163097",
         "Sankt Michaelisdonn",
         "5,88"
        ],
        [
         "19",
         "010515163110",
         "Süderhastedt",
         "5,05"
        ],
        [
         "20",
         "010515166021",
         "Diekhusen-Fahrstedt",
         "6"
        ],
        [
         "21",
         "010515166034",
         "Friedrichskoog",
         "6,1"
        ],
        [
         "22",
         "010515166046",
         "Helse",
         "5,76"
        ],
        [
         "23",
         "010515166057",
         "Kaiser-Wilhelm-Koog",
         "6,1"
        ],
        [
         "24",
         "010515166062",
         "Kronprinzenkoog",
         "5,23"
        ],
        [
         "25",
         "010515166072",
         "Marne",
         "6"
        ],
        [
         "26",
         "010515166073",
         "Marnerdeich",
         "5,81"
        ],
        [
         "27",
         "010515166076",
         "Neufeld",
         "5,37"
        ],
        [
         "28",
         "010515166077",
         "Neufelderkoog",
         "3,74"
        ],
        [
         "29",
         "010515166090",
         "Ramhusen",
         "5,23"
        ],
        [
         "30",
         "010515166103",
         "Schmedeswurth",
         "5,27"
        ],
        [
         "31",
         "010515166118",
         "Trennewurth",
         "4,38"
        ],
        [
         "32",
         "010515166119",
         "Volsemenhusen",
         "4,77"
        ],
        [
         "33",
         "010515169005",
         "Barkenholm",
         "5,63"
        ],
        [
         "34",
         "010515169008",
         "Bergewöhrden",
         "5,51"
        ],
        [
         "35",
         "010515169019",
         "Dellstedt",
         "4,94"
        ],
        [
         "36",
         "010515169020",
         "Delve",
         "4,91"
        ],
        [
         "37",
         "010515169023",
         "Dörpling",
         "5,1"
        ],
        [
         "38",
         "010515169030",
         "Fedderingen",
         "4,27"
        ],
        [
         "39",
         "010515169035",
         "Gaushorn",
         "6,09"
        ],
        [
         "40",
         "010515169036",
         "Glüsing",
         "4,48"
        ],
        [
         "41",
         "010515169038",
         "Groven",
         "5,23"
        ],
        [
         "42",
         "010515169047",
         "Hemme",
         "4,92"
        ],
        [
         "43",
         "010515169049",
         "Hennstedt (Kreis Dithmarschen)",
         "5,78"
        ],
        [
         "44",
         "010515169052",
         "Hövede",
         "4,43"
        ],
        [
         "45",
         "010515169053",
         "Hollingstedt (Kreis Dithmarschen)",
         "5,03"
        ],
        [
         "46",
         "010515169058",
         "Karolinenkoog",
         "4,51"
        ],
        [
         "47",
         "010515169060",
         "Kleve (Kreis Dithmarschen)",
         "4,63"
        ],
        [
         "48",
         "010515169061",
         "Krempel",
         "5,04"
        ],
        [
         "49",
         "010515169065",
         "Lehe (Kreis Dithmarschen)",
         "5,32"
        ]
       ],
       "shape": {
        "columns": 3,
        "rows": 10786
       }
      },
      "text/html": [
       "<div>\n",
       "<style scoped>\n",
       "    .dataframe tbody tr th:only-of-type {\n",
       "        vertical-align: middle;\n",
       "    }\n",
       "\n",
       "    .dataframe tbody tr th {\n",
       "        vertical-align: top;\n",
       "    }\n",
       "\n",
       "    .dataframe thead th {\n",
       "        text-align: right;\n",
       "    }\n",
       "</style>\n",
       "<table border=\"1\" class=\"dataframe\">\n",
       "  <thead>\n",
       "    <tr style=\"text-align: right;\">\n",
       "      <th></th>\n",
       "      <th>GKZ</th>\n",
       "      <th>Gemeindename</th>\n",
       "      <th>Miete_raw</th>\n",
       "    </tr>\n",
       "  </thead>\n",
       "  <tbody>\n",
       "    <tr>\n",
       "      <th>0</th>\n",
       "      <td>010010000000</td>\n",
       "      <td>Flensburg</td>\n",
       "      <td>6,96</td>\n",
       "    </tr>\n",
       "    <tr>\n",
       "      <th>1</th>\n",
       "      <td>010020000000</td>\n",
       "      <td>Kiel</td>\n",
       "      <td>7,64</td>\n",
       "    </tr>\n",
       "    <tr>\n",
       "      <th>2</th>\n",
       "      <td>010030000000</td>\n",
       "      <td>Lübeck</td>\n",
       "      <td>7,47</td>\n",
       "    </tr>\n",
       "    <tr>\n",
       "      <th>3</th>\n",
       "      <td>010040000000</td>\n",
       "      <td>Neumünster</td>\n",
       "      <td>6,22</td>\n",
       "    </tr>\n",
       "    <tr>\n",
       "      <th>4</th>\n",
       "      <td>010510011011</td>\n",
       "      <td>Brunsbüttel</td>\n",
       "      <td>5,74</td>\n",
       "    </tr>\n",
       "    <tr>\n",
       "      <th>...</th>\n",
       "      <td>...</td>\n",
       "      <td>...</td>\n",
       "      <td>...</td>\n",
       "    </tr>\n",
       "    <tr>\n",
       "      <th>10781</th>\n",
       "      <td>1,60775E+11</td>\n",
       "      <td>Göpfersdorf</td>\n",
       "      <td>4,19</td>\n",
       "    </tr>\n",
       "    <tr>\n",
       "      <th>10782</th>\n",
       "      <td>1,60775E+11</td>\n",
       "      <td>Langenleuba-Niederhain</td>\n",
       "      <td>4,4</td>\n",
       "    </tr>\n",
       "    <tr>\n",
       "      <th>10783</th>\n",
       "      <td>1,60775E+11</td>\n",
       "      <td>Nobitz</td>\n",
       "      <td>4,69</td>\n",
       "    </tr>\n",
       "    <tr>\n",
       "      <th>10784</th>\n",
       "      <td>1,60775E+11</td>\n",
       "      <td>Dobitschen</td>\n",
       "      <td>4,44</td>\n",
       "    </tr>\n",
       "    <tr>\n",
       "      <th>10785</th>\n",
       "      <td>1,60775E+11</td>\n",
       "      <td>Schmölln</td>\n",
       "      <td>4,96</td>\n",
       "    </tr>\n",
       "  </tbody>\n",
       "</table>\n",
       "<p>10786 rows × 3 columns</p>\n",
       "</div>"
      ],
      "text/plain": [
       "                GKZ            Gemeindename Miete_raw\n",
       "0      010010000000               Flensburg      6,96\n",
       "1      010020000000                    Kiel      7,64\n",
       "2      010030000000                  Lübeck      7,47\n",
       "3      010040000000              Neumünster      6,22\n",
       "4      010510011011             Brunsbüttel      5,74\n",
       "...             ...                     ...       ...\n",
       "10781   1,60775E+11             Göpfersdorf      4,19\n",
       "10782   1,60775E+11  Langenleuba-Niederhain       4,4\n",
       "10783   1,60775E+11                  Nobitz      4,69\n",
       "10784   1,60775E+11              Dobitschen      4,44\n",
       "10785   1,60775E+11                Schmölln      4,96\n",
       "\n",
       "[10786 rows x 3 columns]"
      ]
     },
     "execution_count": 10,
     "metadata": {},
     "output_type": "execute_result"
    }
   ],
   "source": [
    "df[\"Gemeindename\"] = df[\"Gemeindename\"].astype(str).str.split(\",\", n=1).str[0].str.strip()\n",
    "df"
   ]
  },
  {
   "cell_type": "code",
   "execution_count": 12,
   "id": "1a3e9596",
   "metadata": {},
   "outputs": [
    {
     "data": {
      "application/vnd.microsoft.datawrangler.viewer.v0+json": {
       "columns": [
        {
         "name": "index",
         "rawType": "int64",
         "type": "integer"
        },
        {
         "name": "GKZ",
         "rawType": "object",
         "type": "string"
        },
        {
         "name": "Gemeindename",
         "rawType": "object",
         "type": "string"
        },
        {
         "name": "Miete_raw",
         "rawType": "object",
         "type": "string"
        }
       ],
       "ref": "1a11e810-5fd1-4772-9b5a-6179f2201fa8",
       "rows": [
        [
         "0",
         "010010000000",
         "Flensburg",
         "6,96"
        ],
        [
         "1",
         "010020000000",
         "Kiel",
         "7,64"
        ],
        [
         "2",
         "010030000000",
         "Lübeck",
         "7,47"
        ],
        [
         "3",
         "010040000000",
         "Neumünster",
         "6,22"
        ],
        [
         "4",
         "010510011011",
         "Brunsbüttel",
         "5,74"
        ],
        [
         "5",
         "010510044044",
         "Heide",
         "6,68"
        ],
        [
         "6",
         "010515163003",
         "Averlak",
         "5,12"
        ],
        [
         "7",
         "010515163010",
         "Brickeln",
         "5,73"
        ],
        [
         "8",
         "010515163012",
         "Buchholz",
         "5"
        ],
        [
         "9",
         "010515163016",
         "Burg",
         "5,67"
        ],
        [
         "10",
         "010515163022",
         "Dingen",
         "5,89"
        ],
        [
         "11",
         "010515163024",
         "Eddelak",
         "4,83"
        ],
        [
         "12",
         "010515163026",
         "Eggstedt",
         "4,97"
        ],
        [
         "13",
         "010515163032",
         "Frestedt",
         "5,12"
        ],
        [
         "14",
         "010515163037",
         "Großenrade",
         "4,9"
        ],
        [
         "15",
         "010515163051",
         "Hochdonn",
         "5,09"
        ],
        [
         "16",
         "010515163064",
         "Kuden",
         "4,95"
        ],
        [
         "17",
         "010515163089",
         "Quickborn",
         "4,88"
        ],
        [
         "18",
         "010515163097",
         "Sankt Michaelisdonn",
         "5,88"
        ],
        [
         "19",
         "010515163110",
         "Süderhastedt",
         "5,05"
        ],
        [
         "20",
         "010515166021",
         "Diekhusen-Fahrstedt",
         "6"
        ],
        [
         "21",
         "010515166034",
         "Friedrichskoog",
         "6,1"
        ],
        [
         "22",
         "010515166046",
         "Helse",
         "5,76"
        ],
        [
         "23",
         "010515166057",
         "Kaiser-Wilhelm-Koog",
         "6,1"
        ],
        [
         "24",
         "010515166062",
         "Kronprinzenkoog",
         "5,23"
        ],
        [
         "25",
         "010515166072",
         "Marne",
         "6"
        ],
        [
         "26",
         "010515166073",
         "Marnerdeich",
         "5,81"
        ],
        [
         "27",
         "010515166076",
         "Neufeld",
         "5,37"
        ],
        [
         "28",
         "010515166077",
         "Neufelderkoog",
         "3,74"
        ],
        [
         "29",
         "010515166090",
         "Ramhusen",
         "5,23"
        ],
        [
         "30",
         "010515166103",
         "Schmedeswurth",
         "5,27"
        ],
        [
         "31",
         "010515166118",
         "Trennewurth",
         "4,38"
        ],
        [
         "32",
         "010515166119",
         "Volsemenhusen",
         "4,77"
        ],
        [
         "33",
         "010515169005",
         "Barkenholm",
         "5,63"
        ],
        [
         "34",
         "010515169008",
         "Bergewöhrden",
         "5,51"
        ],
        [
         "35",
         "010515169019",
         "Dellstedt",
         "4,94"
        ],
        [
         "36",
         "010515169020",
         "Delve",
         "4,91"
        ],
        [
         "37",
         "010515169023",
         "Dörpling",
         "5,1"
        ],
        [
         "38",
         "010515169030",
         "Fedderingen",
         "4,27"
        ],
        [
         "39",
         "010515169035",
         "Gaushorn",
         "6,09"
        ],
        [
         "40",
         "010515169036",
         "Glüsing",
         "4,48"
        ],
        [
         "41",
         "010515169038",
         "Groven",
         "5,23"
        ],
        [
         "42",
         "010515169047",
         "Hemme",
         "4,92"
        ],
        [
         "43",
         "010515169049",
         "Hennstedt",
         "5,78"
        ],
        [
         "44",
         "010515169052",
         "Hövede",
         "4,43"
        ],
        [
         "45",
         "010515169053",
         "Hollingstedt",
         "5,03"
        ],
        [
         "46",
         "010515169058",
         "Karolinenkoog",
         "4,51"
        ],
        [
         "47",
         "010515169060",
         "Kleve",
         "4,63"
        ],
        [
         "48",
         "010515169061",
         "Krempel",
         "5,04"
        ],
        [
         "49",
         "010515169065",
         "Lehe",
         "5,32"
        ]
       ],
       "shape": {
        "columns": 3,
        "rows": 10786
       }
      },
      "text/html": [
       "<div>\n",
       "<style scoped>\n",
       "    .dataframe tbody tr th:only-of-type {\n",
       "        vertical-align: middle;\n",
       "    }\n",
       "\n",
       "    .dataframe tbody tr th {\n",
       "        vertical-align: top;\n",
       "    }\n",
       "\n",
       "    .dataframe thead th {\n",
       "        text-align: right;\n",
       "    }\n",
       "</style>\n",
       "<table border=\"1\" class=\"dataframe\">\n",
       "  <thead>\n",
       "    <tr style=\"text-align: right;\">\n",
       "      <th></th>\n",
       "      <th>GKZ</th>\n",
       "      <th>Gemeindename</th>\n",
       "      <th>Miete_raw</th>\n",
       "    </tr>\n",
       "  </thead>\n",
       "  <tbody>\n",
       "    <tr>\n",
       "      <th>0</th>\n",
       "      <td>010010000000</td>\n",
       "      <td>Flensburg</td>\n",
       "      <td>6,96</td>\n",
       "    </tr>\n",
       "    <tr>\n",
       "      <th>1</th>\n",
       "      <td>010020000000</td>\n",
       "      <td>Kiel</td>\n",
       "      <td>7,64</td>\n",
       "    </tr>\n",
       "    <tr>\n",
       "      <th>2</th>\n",
       "      <td>010030000000</td>\n",
       "      <td>Lübeck</td>\n",
       "      <td>7,47</td>\n",
       "    </tr>\n",
       "    <tr>\n",
       "      <th>3</th>\n",
       "      <td>010040000000</td>\n",
       "      <td>Neumünster</td>\n",
       "      <td>6,22</td>\n",
       "    </tr>\n",
       "    <tr>\n",
       "      <th>4</th>\n",
       "      <td>010510011011</td>\n",
       "      <td>Brunsbüttel</td>\n",
       "      <td>5,74</td>\n",
       "    </tr>\n",
       "    <tr>\n",
       "      <th>...</th>\n",
       "      <td>...</td>\n",
       "      <td>...</td>\n",
       "      <td>...</td>\n",
       "    </tr>\n",
       "    <tr>\n",
       "      <th>10781</th>\n",
       "      <td>1,60775E+11</td>\n",
       "      <td>Göpfersdorf</td>\n",
       "      <td>4,19</td>\n",
       "    </tr>\n",
       "    <tr>\n",
       "      <th>10782</th>\n",
       "      <td>1,60775E+11</td>\n",
       "      <td>Langenleuba-Niederhain</td>\n",
       "      <td>4,4</td>\n",
       "    </tr>\n",
       "    <tr>\n",
       "      <th>10783</th>\n",
       "      <td>1,60775E+11</td>\n",
       "      <td>Nobitz</td>\n",
       "      <td>4,69</td>\n",
       "    </tr>\n",
       "    <tr>\n",
       "      <th>10784</th>\n",
       "      <td>1,60775E+11</td>\n",
       "      <td>Dobitschen</td>\n",
       "      <td>4,44</td>\n",
       "    </tr>\n",
       "    <tr>\n",
       "      <th>10785</th>\n",
       "      <td>1,60775E+11</td>\n",
       "      <td>Schmölln</td>\n",
       "      <td>4,96</td>\n",
       "    </tr>\n",
       "  </tbody>\n",
       "</table>\n",
       "<p>10786 rows × 3 columns</p>\n",
       "</div>"
      ],
      "text/plain": [
       "                GKZ            Gemeindename Miete_raw\n",
       "0      010010000000               Flensburg      6,96\n",
       "1      010020000000                    Kiel      7,64\n",
       "2      010030000000                  Lübeck      7,47\n",
       "3      010040000000              Neumünster      6,22\n",
       "4      010510011011             Brunsbüttel      5,74\n",
       "...             ...                     ...       ...\n",
       "10781   1,60775E+11             Göpfersdorf      4,19\n",
       "10782   1,60775E+11  Langenleuba-Niederhain       4,4\n",
       "10783   1,60775E+11                  Nobitz      4,69\n",
       "10784   1,60775E+11              Dobitschen      4,44\n",
       "10785   1,60775E+11                Schmölln      4,96\n",
       "\n",
       "[10786 rows x 3 columns]"
      ]
     },
     "execution_count": 12,
     "metadata": {},
     "output_type": "execute_result"
    }
   ],
   "source": [
    "df[\"Gemeindename\"] = df[\"Gemeindename\"].astype(str).str.split(\"(\", n=1).str[0].str.strip()\n",
    "df"
   ]
  },
  {
   "cell_type": "code",
   "execution_count": 15,
   "id": "99af9d27",
   "metadata": {},
   "outputs": [
    {
     "data": {
      "application/vnd.microsoft.datawrangler.viewer.v0+json": {
       "columns": [
        {
         "name": "index",
         "rawType": "int64",
         "type": "integer"
        },
        {
         "name": "GKZ",
         "rawType": "object",
         "type": "string"
        },
        {
         "name": "Gemeindename",
         "rawType": "object",
         "type": "string"
        },
        {
         "name": "Miete_raw",
         "rawType": "object",
         "type": "string"
        },
        {
         "name": "Miete",
         "rawType": "float64",
         "type": "float"
        }
       ],
       "ref": "d5d12481-d494-4fbf-b913-27ed3707dc87",
       "rows": [
        [
         "0",
         "010010000000",
         "Flensburg",
         "6,96",
         "6.96"
        ],
        [
         "1",
         "010020000000",
         "Kiel",
         "7,64",
         "7.64"
        ],
        [
         "2",
         "010030000000",
         "Lübeck",
         "7,47",
         "7.47"
        ],
        [
         "3",
         "010040000000",
         "Neumünster",
         "6,22",
         "6.22"
        ],
        [
         "4",
         "010510011011",
         "Brunsbüttel",
         "5,74",
         "5.74"
        ],
        [
         "5",
         "010510044044",
         "Heide",
         "6,68",
         "6.68"
        ],
        [
         "6",
         "010515163003",
         "Averlak",
         "5,12",
         "5.12"
        ],
        [
         "7",
         "010515163010",
         "Brickeln",
         "5,73",
         "5.73"
        ],
        [
         "8",
         "010515163012",
         "Buchholz",
         "5",
         "5.0"
        ],
        [
         "9",
         "010515163016",
         "Burg",
         "5,67",
         "5.67"
        ],
        [
         "10",
         "010515163022",
         "Dingen",
         "5,89",
         "5.89"
        ],
        [
         "11",
         "010515163024",
         "Eddelak",
         "4,83",
         "4.83"
        ],
        [
         "12",
         "010515163026",
         "Eggstedt",
         "4,97",
         "4.97"
        ],
        [
         "13",
         "010515163032",
         "Frestedt",
         "5,12",
         "5.12"
        ],
        [
         "14",
         "010515163037",
         "Großenrade",
         "4,9",
         "4.9"
        ],
        [
         "15",
         "010515163051",
         "Hochdonn",
         "5,09",
         "5.09"
        ],
        [
         "16",
         "010515163064",
         "Kuden",
         "4,95",
         "4.95"
        ],
        [
         "17",
         "010515163089",
         "Quickborn",
         "4,88",
         "4.88"
        ],
        [
         "18",
         "010515163097",
         "Sankt Michaelisdonn",
         "5,88",
         "5.88"
        ],
        [
         "19",
         "010515163110",
         "Süderhastedt",
         "5,05",
         "5.05"
        ],
        [
         "20",
         "010515166021",
         "Diekhusen-Fahrstedt",
         "6",
         "6.0"
        ],
        [
         "21",
         "010515166034",
         "Friedrichskoog",
         "6,1",
         "6.1"
        ],
        [
         "22",
         "010515166046",
         "Helse",
         "5,76",
         "5.76"
        ],
        [
         "23",
         "010515166057",
         "Kaiser-Wilhelm-Koog",
         "6,1",
         "6.1"
        ],
        [
         "24",
         "010515166062",
         "Kronprinzenkoog",
         "5,23",
         "5.23"
        ],
        [
         "25",
         "010515166072",
         "Marne",
         "6",
         "6.0"
        ],
        [
         "26",
         "010515166073",
         "Marnerdeich",
         "5,81",
         "5.81"
        ],
        [
         "27",
         "010515166076",
         "Neufeld",
         "5,37",
         "5.37"
        ],
        [
         "28",
         "010515166077",
         "Neufelderkoog",
         "3,74",
         "3.74"
        ],
        [
         "29",
         "010515166090",
         "Ramhusen",
         "5,23",
         "5.23"
        ],
        [
         "30",
         "010515166103",
         "Schmedeswurth",
         "5,27",
         "5.27"
        ],
        [
         "31",
         "010515166118",
         "Trennewurth",
         "4,38",
         "4.38"
        ],
        [
         "32",
         "010515166119",
         "Volsemenhusen",
         "4,77",
         "4.77"
        ],
        [
         "33",
         "010515169005",
         "Barkenholm",
         "5,63",
         "5.63"
        ],
        [
         "34",
         "010515169008",
         "Bergewöhrden",
         "5,51",
         "5.51"
        ],
        [
         "35",
         "010515169019",
         "Dellstedt",
         "4,94",
         "4.94"
        ],
        [
         "36",
         "010515169020",
         "Delve",
         "4,91",
         "4.91"
        ],
        [
         "37",
         "010515169023",
         "Dörpling",
         "5,1",
         "5.1"
        ],
        [
         "38",
         "010515169030",
         "Fedderingen",
         "4,27",
         "4.27"
        ],
        [
         "39",
         "010515169035",
         "Gaushorn",
         "6,09",
         "6.09"
        ],
        [
         "40",
         "010515169036",
         "Glüsing",
         "4,48",
         "4.48"
        ],
        [
         "41",
         "010515169038",
         "Groven",
         "5,23",
         "5.23"
        ],
        [
         "42",
         "010515169047",
         "Hemme",
         "4,92",
         "4.92"
        ],
        [
         "43",
         "010515169049",
         "Hennstedt",
         "5,78",
         "5.78"
        ],
        [
         "44",
         "010515169052",
         "Hövede",
         "4,43",
         "4.43"
        ],
        [
         "45",
         "010515169053",
         "Hollingstedt",
         "5,03",
         "5.03"
        ],
        [
         "46",
         "010515169058",
         "Karolinenkoog",
         "4,51",
         "4.51"
        ],
        [
         "47",
         "010515169060",
         "Kleve",
         "4,63",
         "4.63"
        ],
        [
         "48",
         "010515169061",
         "Krempel",
         "5,04",
         "5.04"
        ],
        [
         "49",
         "010515169065",
         "Lehe",
         "5,32",
         "5.32"
        ]
       ],
       "shape": {
        "columns": 4,
        "rows": 10786
       }
      },
      "text/html": [
       "<div>\n",
       "<style scoped>\n",
       "    .dataframe tbody tr th:only-of-type {\n",
       "        vertical-align: middle;\n",
       "    }\n",
       "\n",
       "    .dataframe tbody tr th {\n",
       "        vertical-align: top;\n",
       "    }\n",
       "\n",
       "    .dataframe thead th {\n",
       "        text-align: right;\n",
       "    }\n",
       "</style>\n",
       "<table border=\"1\" class=\"dataframe\">\n",
       "  <thead>\n",
       "    <tr style=\"text-align: right;\">\n",
       "      <th></th>\n",
       "      <th>GKZ</th>\n",
       "      <th>Gemeindename</th>\n",
       "      <th>Miete_raw</th>\n",
       "      <th>Miete</th>\n",
       "    </tr>\n",
       "  </thead>\n",
       "  <tbody>\n",
       "    <tr>\n",
       "      <th>0</th>\n",
       "      <td>010010000000</td>\n",
       "      <td>Flensburg</td>\n",
       "      <td>6,96</td>\n",
       "      <td>6.96</td>\n",
       "    </tr>\n",
       "    <tr>\n",
       "      <th>1</th>\n",
       "      <td>010020000000</td>\n",
       "      <td>Kiel</td>\n",
       "      <td>7,64</td>\n",
       "      <td>7.64</td>\n",
       "    </tr>\n",
       "    <tr>\n",
       "      <th>2</th>\n",
       "      <td>010030000000</td>\n",
       "      <td>Lübeck</td>\n",
       "      <td>7,47</td>\n",
       "      <td>7.47</td>\n",
       "    </tr>\n",
       "    <tr>\n",
       "      <th>3</th>\n",
       "      <td>010040000000</td>\n",
       "      <td>Neumünster</td>\n",
       "      <td>6,22</td>\n",
       "      <td>6.22</td>\n",
       "    </tr>\n",
       "    <tr>\n",
       "      <th>4</th>\n",
       "      <td>010510011011</td>\n",
       "      <td>Brunsbüttel</td>\n",
       "      <td>5,74</td>\n",
       "      <td>5.74</td>\n",
       "    </tr>\n",
       "    <tr>\n",
       "      <th>...</th>\n",
       "      <td>...</td>\n",
       "      <td>...</td>\n",
       "      <td>...</td>\n",
       "      <td>...</td>\n",
       "    </tr>\n",
       "    <tr>\n",
       "      <th>10781</th>\n",
       "      <td>1,60775E+11</td>\n",
       "      <td>Göpfersdorf</td>\n",
       "      <td>4,19</td>\n",
       "      <td>4.19</td>\n",
       "    </tr>\n",
       "    <tr>\n",
       "      <th>10782</th>\n",
       "      <td>1,60775E+11</td>\n",
       "      <td>Langenleuba-Niederhain</td>\n",
       "      <td>4,4</td>\n",
       "      <td>4.40</td>\n",
       "    </tr>\n",
       "    <tr>\n",
       "      <th>10783</th>\n",
       "      <td>1,60775E+11</td>\n",
       "      <td>Nobitz</td>\n",
       "      <td>4,69</td>\n",
       "      <td>4.69</td>\n",
       "    </tr>\n",
       "    <tr>\n",
       "      <th>10784</th>\n",
       "      <td>1,60775E+11</td>\n",
       "      <td>Dobitschen</td>\n",
       "      <td>4,44</td>\n",
       "      <td>4.44</td>\n",
       "    </tr>\n",
       "    <tr>\n",
       "      <th>10785</th>\n",
       "      <td>1,60775E+11</td>\n",
       "      <td>Schmölln</td>\n",
       "      <td>4,96</td>\n",
       "      <td>4.96</td>\n",
       "    </tr>\n",
       "  </tbody>\n",
       "</table>\n",
       "<p>10786 rows × 4 columns</p>\n",
       "</div>"
      ],
      "text/plain": [
       "                GKZ            Gemeindename Miete_raw  Miete\n",
       "0      010010000000               Flensburg      6,96   6.96\n",
       "1      010020000000                    Kiel      7,64   7.64\n",
       "2      010030000000                  Lübeck      7,47   7.47\n",
       "3      010040000000              Neumünster      6,22   6.22\n",
       "4      010510011011             Brunsbüttel      5,74   5.74\n",
       "...             ...                     ...       ...    ...\n",
       "10781   1,60775E+11             Göpfersdorf      4,19   4.19\n",
       "10782   1,60775E+11  Langenleuba-Niederhain       4,4   4.40\n",
       "10783   1,60775E+11                  Nobitz      4,69   4.69\n",
       "10784   1,60775E+11              Dobitschen      4,44   4.44\n",
       "10785   1,60775E+11                Schmölln      4,96   4.96\n",
       "\n",
       "[10786 rows x 4 columns]"
      ]
     },
     "execution_count": 15,
     "metadata": {},
     "output_type": "execute_result"
    }
   ],
   "source": [
    "# Miete in float umwandeln\n",
    "#    - Leerzeichen weg\n",
    "#    - Euro/Einheiten weg\n",
    "#    - deutsches Komma in Punkt umwandeln\n",
    "def to_float_de(s):\n",
    "    if pd.isna(s): \n",
    "        return None\n",
    "    s = str(s)\n",
    "    s = s.replace(\"€\", \"\").replace(\"€/m²\", \"\").strip()\n",
    "    s = s.replace(\".\", \"\")      # tausenderpunkte weg (falls vorhanden)\n",
    "    s = s.replace(\",\", \".\")     # deutsches Komma -> Punkt\n",
    "    try:\n",
    "        return float(s)\n",
    "    except:\n",
    "        return None\n",
    "df[\"Miete\"] = df[\"Miete_raw\"].map(to_float_de)\n",
    "df"
   ]
  },
  {
   "cell_type": "code",
   "execution_count": 19,
   "id": "26257dfb",
   "metadata": {},
   "outputs": [
    {
     "data": {
      "application/vnd.microsoft.datawrangler.viewer.v0+json": {
       "columns": [
        {
         "name": "index",
         "rawType": "int64",
         "type": "integer"
        },
        {
         "name": "GKZ",
         "rawType": "object",
         "type": "string"
        },
        {
         "name": "Gemeindename",
         "rawType": "object",
         "type": "string"
        },
        {
         "name": "Miete_raw",
         "rawType": "object",
         "type": "string"
        },
        {
         "name": "Miete",
         "rawType": "float64",
         "type": "float"
        }
       ],
       "ref": "0a960226-9932-4307-8da0-7d2dbcc3ba50",
       "rows": [
        [
         "0",
         "010010000000",
         "Flensburg",
         "6,96",
         "6.96"
        ],
        [
         "1",
         "010020000000",
         "Kiel",
         "7,64",
         "7.64"
        ],
        [
         "2",
         "010030000000",
         "Lübeck",
         "7,47",
         "7.47"
        ],
        [
         "3",
         "010040000000",
         "Neumünster",
         "6,22",
         "6.22"
        ],
        [
         "4",
         "010510011011",
         "Brunsbüttel",
         "5,74",
         "5.74"
        ],
        [
         "5",
         "010510044044",
         "Heide",
         "6,68",
         "6.68"
        ],
        [
         "6",
         "010515163003",
         "Averlak",
         "5,12",
         "5.12"
        ],
        [
         "7",
         "010515163010",
         "Brickeln",
         "5,73",
         "5.73"
        ],
        [
         "8",
         "010515163012",
         "Buchholz",
         "5",
         "5.0"
        ],
        [
         "9",
         "010515163016",
         "Burg",
         "5,67",
         "5.67"
        ],
        [
         "10",
         "010515163022",
         "Dingen",
         "5,89",
         "5.89"
        ],
        [
         "11",
         "010515163024",
         "Eddelak",
         "4,83",
         "4.83"
        ],
        [
         "12",
         "010515163026",
         "Eggstedt",
         "4,97",
         "4.97"
        ],
        [
         "13",
         "010515163032",
         "Frestedt",
         "5,12",
         "5.12"
        ],
        [
         "14",
         "010515163037",
         "Großenrade",
         "4,9",
         "4.9"
        ],
        [
         "15",
         "010515163051",
         "Hochdonn",
         "5,09",
         "5.09"
        ],
        [
         "16",
         "010515163064",
         "Kuden",
         "4,95",
         "4.95"
        ],
        [
         "17",
         "010515163089",
         "Quickborn",
         "4,88",
         "4.88"
        ],
        [
         "18",
         "010515163097",
         "Sankt Michaelisdonn",
         "5,88",
         "5.88"
        ],
        [
         "19",
         "010515163110",
         "Süderhastedt",
         "5,05",
         "5.05"
        ],
        [
         "20",
         "010515166021",
         "Diekhusen-Fahrstedt",
         "6",
         "6.0"
        ],
        [
         "21",
         "010515166034",
         "Friedrichskoog",
         "6,1",
         "6.1"
        ],
        [
         "22",
         "010515166046",
         "Helse",
         "5,76",
         "5.76"
        ],
        [
         "23",
         "010515166057",
         "Kaiser-Wilhelm-Koog",
         "6,1",
         "6.1"
        ],
        [
         "24",
         "010515166062",
         "Kronprinzenkoog",
         "5,23",
         "5.23"
        ],
        [
         "25",
         "010515166072",
         "Marne",
         "6",
         "6.0"
        ],
        [
         "26",
         "010515166073",
         "Marnerdeich",
         "5,81",
         "5.81"
        ],
        [
         "27",
         "010515166076",
         "Neufeld",
         "5,37",
         "5.37"
        ],
        [
         "28",
         "010515166077",
         "Neufelderkoog",
         "3,74",
         "3.74"
        ],
        [
         "29",
         "010515166090",
         "Ramhusen",
         "5,23",
         "5.23"
        ],
        [
         "30",
         "010515166103",
         "Schmedeswurth",
         "5,27",
         "5.27"
        ],
        [
         "31",
         "010515166118",
         "Trennewurth",
         "4,38",
         "4.38"
        ],
        [
         "32",
         "010515166119",
         "Volsemenhusen",
         "4,77",
         "4.77"
        ],
        [
         "33",
         "010515169005",
         "Barkenholm",
         "5,63",
         "5.63"
        ],
        [
         "34",
         "010515169008",
         "Bergewöhrden",
         "5,51",
         "5.51"
        ],
        [
         "35",
         "010515169019",
         "Dellstedt",
         "4,94",
         "4.94"
        ],
        [
         "36",
         "010515169020",
         "Delve",
         "4,91",
         "4.91"
        ],
        [
         "37",
         "010515169023",
         "Dörpling",
         "5,1",
         "5.1"
        ],
        [
         "38",
         "010515169030",
         "Fedderingen",
         "4,27",
         "4.27"
        ],
        [
         "39",
         "010515169035",
         "Gaushorn",
         "6,09",
         "6.09"
        ],
        [
         "40",
         "010515169036",
         "Glüsing",
         "4,48",
         "4.48"
        ],
        [
         "41",
         "010515169038",
         "Groven",
         "5,23",
         "5.23"
        ],
        [
         "42",
         "010515169047",
         "Hemme",
         "4,92",
         "4.92"
        ],
        [
         "43",
         "010515169049",
         "Hennstedt",
         "5,78",
         "5.78"
        ],
        [
         "44",
         "010515169052",
         "Hövede",
         "4,43",
         "4.43"
        ],
        [
         "45",
         "010515169053",
         "Hollingstedt",
         "5,03",
         "5.03"
        ],
        [
         "46",
         "010515169058",
         "Karolinenkoog",
         "4,51",
         "4.51"
        ],
        [
         "47",
         "010515169060",
         "Kleve",
         "4,63",
         "4.63"
        ],
        [
         "48",
         "010515169061",
         "Krempel",
         "5,04",
         "5.04"
        ],
        [
         "49",
         "010515169065",
         "Lehe",
         "5,32",
         "5.32"
        ]
       ],
       "shape": {
        "columns": 4,
        "rows": 10713
       }
      },
      "text/html": [
       "<div>\n",
       "<style scoped>\n",
       "    .dataframe tbody tr th:only-of-type {\n",
       "        vertical-align: middle;\n",
       "    }\n",
       "\n",
       "    .dataframe tbody tr th {\n",
       "        vertical-align: top;\n",
       "    }\n",
       "\n",
       "    .dataframe thead th {\n",
       "        text-align: right;\n",
       "    }\n",
       "</style>\n",
       "<table border=\"1\" class=\"dataframe\">\n",
       "  <thead>\n",
       "    <tr style=\"text-align: right;\">\n",
       "      <th></th>\n",
       "      <th>GKZ</th>\n",
       "      <th>Gemeindename</th>\n",
       "      <th>Miete_raw</th>\n",
       "      <th>Miete</th>\n",
       "    </tr>\n",
       "  </thead>\n",
       "  <tbody>\n",
       "    <tr>\n",
       "      <th>0</th>\n",
       "      <td>010010000000</td>\n",
       "      <td>Flensburg</td>\n",
       "      <td>6,96</td>\n",
       "      <td>6.96</td>\n",
       "    </tr>\n",
       "    <tr>\n",
       "      <th>1</th>\n",
       "      <td>010020000000</td>\n",
       "      <td>Kiel</td>\n",
       "      <td>7,64</td>\n",
       "      <td>7.64</td>\n",
       "    </tr>\n",
       "    <tr>\n",
       "      <th>2</th>\n",
       "      <td>010030000000</td>\n",
       "      <td>Lübeck</td>\n",
       "      <td>7,47</td>\n",
       "      <td>7.47</td>\n",
       "    </tr>\n",
       "    <tr>\n",
       "      <th>3</th>\n",
       "      <td>010040000000</td>\n",
       "      <td>Neumünster</td>\n",
       "      <td>6,22</td>\n",
       "      <td>6.22</td>\n",
       "    </tr>\n",
       "    <tr>\n",
       "      <th>4</th>\n",
       "      <td>010510011011</td>\n",
       "      <td>Brunsbüttel</td>\n",
       "      <td>5,74</td>\n",
       "      <td>5.74</td>\n",
       "    </tr>\n",
       "    <tr>\n",
       "      <th>...</th>\n",
       "      <td>...</td>\n",
       "      <td>...</td>\n",
       "      <td>...</td>\n",
       "      <td>...</td>\n",
       "    </tr>\n",
       "    <tr>\n",
       "      <th>10781</th>\n",
       "      <td>1,60775E+11</td>\n",
       "      <td>Göpfersdorf</td>\n",
       "      <td>4,19</td>\n",
       "      <td>4.19</td>\n",
       "    </tr>\n",
       "    <tr>\n",
       "      <th>10782</th>\n",
       "      <td>1,60775E+11</td>\n",
       "      <td>Langenleuba-Niederhain</td>\n",
       "      <td>4,4</td>\n",
       "      <td>4.40</td>\n",
       "    </tr>\n",
       "    <tr>\n",
       "      <th>10783</th>\n",
       "      <td>1,60775E+11</td>\n",
       "      <td>Nobitz</td>\n",
       "      <td>4,69</td>\n",
       "      <td>4.69</td>\n",
       "    </tr>\n",
       "    <tr>\n",
       "      <th>10784</th>\n",
       "      <td>1,60775E+11</td>\n",
       "      <td>Dobitschen</td>\n",
       "      <td>4,44</td>\n",
       "      <td>4.44</td>\n",
       "    </tr>\n",
       "    <tr>\n",
       "      <th>10785</th>\n",
       "      <td>1,60775E+11</td>\n",
       "      <td>Schmölln</td>\n",
       "      <td>4,96</td>\n",
       "      <td>4.96</td>\n",
       "    </tr>\n",
       "  </tbody>\n",
       "</table>\n",
       "<p>10713 rows × 4 columns</p>\n",
       "</div>"
      ],
      "text/plain": [
       "                GKZ            Gemeindename Miete_raw  Miete\n",
       "0      010010000000               Flensburg      6,96   6.96\n",
       "1      010020000000                    Kiel      7,64   7.64\n",
       "2      010030000000                  Lübeck      7,47   7.47\n",
       "3      010040000000              Neumünster      6,22   6.22\n",
       "4      010510011011             Brunsbüttel      5,74   5.74\n",
       "...             ...                     ...       ...    ...\n",
       "10781   1,60775E+11             Göpfersdorf      4,19   4.19\n",
       "10782   1,60775E+11  Langenleuba-Niederhain       4,4   4.40\n",
       "10783   1,60775E+11                  Nobitz      4,69   4.69\n",
       "10784   1,60775E+11              Dobitschen      4,44   4.44\n",
       "10785   1,60775E+11                Schmölln      4,96   4.96\n",
       "\n",
       "[10713 rows x 4 columns]"
      ]
     },
     "execution_count": 19,
     "metadata": {},
     "output_type": "execute_result"
    }
   ],
   "source": [
    "df = df.dropna(subset=[\"Miete\"])\n",
    "df"
   ]
  },
  {
   "cell_type": "code",
   "execution_count": 25,
   "id": "2375bf88",
   "metadata": {},
   "outputs": [],
   "source": [
    "df = df.drop(columns=[\"Miete_raw\"])"
   ]
  },
  {
   "cell_type": "code",
   "execution_count": 26,
   "id": "a0b15987",
   "metadata": {},
   "outputs": [
    {
     "name": "stdout",
     "output_type": "stream",
     "text": [
      "\n",
      "Datentypen:\n",
      "GKZ              object\n",
      "Gemeindename     object\n",
      "Miete           float64\n",
      "dtype: object\n"
     ]
    }
   ],
   "source": [
    "# --- 3. Datentypen prüfen ---\n",
    "print(\"\\nDatentypen:\")\n",
    "print(df.dtypes)"
   ]
  },
  {
   "cell_type": "code",
   "execution_count": 27,
   "id": "761100df",
   "metadata": {},
   "outputs": [
    {
     "name": "stdout",
     "output_type": "stream",
     "text": [
      "\n",
      "Fehlende Werte (in %):\n",
      "GKZ             0.0\n",
      "Gemeindename    0.0\n",
      "Miete           0.0\n",
      "dtype: float64\n"
     ]
    }
   ],
   "source": [
    "# --- 4. Fehlende Werte prüfen ---\n",
    "print(\"\\nFehlende Werte (in %):\")\n",
    "print(df.isna().mean().sort_values(ascending=False).head(10))"
   ]
  },
  {
   "cell_type": "code",
   "execution_count": 28,
   "id": "f221cf4e",
   "metadata": {},
   "outputs": [
    {
     "name": "stdout",
     "output_type": "stream",
     "text": [
      "\n",
      "Basisstatistik:\n",
      "                GKZ  Gemeindename         Miete\n",
      "count         10713         10713  10713.000000\n",
      "unique         8439         10120           NaN\n",
      "top     1,30715E+11  Neuenkirchen           NaN\n",
      "freq            141            11           NaN\n",
      "mean            NaN           NaN      5.776486\n",
      "std             NaN           NaN      1.323485\n",
      "min             NaN           NaN      0.090000\n",
      "25%             NaN           NaN      4.830000\n",
      "50%             NaN           NaN      5.540000\n",
      "75%             NaN           NaN      6.460000\n",
      "max             NaN           NaN     13.840000\n"
     ]
    }
   ],
   "source": [
    "# --- 5. Basisstatistik ---\n",
    "print(\"\\nBasisstatistik:\")\n",
    "print(df.describe(include=\"all\"))"
   ]
  },
  {
   "cell_type": "code",
   "execution_count": 30,
   "id": "363914ad",
   "metadata": {},
   "outputs": [
    {
     "name": "stdout",
     "output_type": "stream",
     "text": [
      "\n",
      "Eindeutige GKZ: 8439\n",
      "Duplikate? True\n"
     ]
    }
   ],
   "source": [
    "# --- 6. Eindeutigkeit der GKZ prüfen ---\n",
    "print(\"\\nEindeutige GKZ:\", df[\"GKZ\"].nunique())\n",
    "print(\"Duplikate?\", df[\"GKZ\"].duplicated().any())"
   ]
  },
  {
   "cell_type": "code",
   "execution_count": 31,
   "id": "c972c3d7",
   "metadata": {},
   "outputs": [
    {
     "name": "stdout",
     "output_type": "stream",
     "text": [
      "Zeilen gesamt: 10713\n",
      "Eindeutige GKZ: 8439\n",
      "Hat Duplikate (GKZ)? True\n",
      "\n",
      "Beispiele:\n",
      "            GKZ Gemeindename  Miete\n",
      "0  010010000000    Flensburg   6.96\n",
      "1  010020000000         Kiel   7.64\n",
      "2  010030000000       Lübeck   7.47\n",
      "3  010040000000   Neumünster   6.22\n",
      "4  010510011011  Brunsbüttel   5.74\n",
      "5  010510044044        Heide   6.68\n",
      "6  010515163003      Averlak   5.12\n",
      "7  010515163010     Brickeln   5.73\n",
      "8  010515163012     Buchholz   5.00\n",
      "9  010515163016         Burg   5.67\n"
     ]
    }
   ],
   "source": [
    "# 7) Übersicht drucken\n",
    "print(\"Zeilen gesamt:\", len(df))\n",
    "print(\"Eindeutige GKZ:\", df[\"GKZ\"].nunique())\n",
    "print(\"Hat Duplikate (GKZ)?\", df[\"GKZ\"].duplicated().any())\n",
    "print(\"\\nBeispiele:\")\n",
    "print(df.head(10))"
   ]
  },
  {
   "cell_type": "code",
   "execution_count": 32,
   "id": "3cb48e75",
   "metadata": {},
   "outputs": [
    {
     "name": "stdout",
     "output_type": "stream",
     "text": [
      "\n",
      "Gespeichert → ../data/clean/zensus_0004_clean.csv\n",
      "Finale Spalten: ['GKZ', 'Gemeindename', 'Miete']\n"
     ]
    }
   ],
   "source": [
    "# 8) Speichern\n",
    "import os, re\n",
    "out_dir = \"../data/clean\"\n",
    "os.makedirs(out_dir, exist_ok=True)\n",
    "out_path = f\"{out_dir}/zensus_0004_clean.csv\"\n",
    "df.to_csv(out_path, index=False, encoding=\"utf-8\")  # Komma-getrennt\n",
    "print(\"\\nGespeichert →\", out_path)\n",
    "print(\"Finale Spalten:\", df.columns.tolist())"
   ]
  },
  {
   "cell_type": "code",
   "execution_count": 10,
   "id": "c919f9d5",
   "metadata": {},
   "outputs": [
    {
     "data": {
      "application/vnd.microsoft.datawrangler.viewer.v0+json": {
       "columns": [
        {
         "name": "index",
         "rawType": "int64",
         "type": "integer"
        },
        {
         "name": "GKZ",
         "rawType": "object",
         "type": "string"
        },
        {
         "name": "Gemeindename",
         "rawType": "object",
         "type": "string"
        },
        {
         "name": "Miete_raw",
         "rawType": "object",
         "type": "string"
        },
        {
         "name": "befor 1919",
         "rawType": "object",
         "type": "string"
        },
        {
         "name": "1919-1949",
         "rawType": "object",
         "type": "string"
        },
        {
         "name": "1950-1959",
         "rawType": "object",
         "type": "string"
        },
        {
         "name": "1960-1969",
         "rawType": "object",
         "type": "string"
        },
        {
         "name": "1970-1979",
         "rawType": "object",
         "type": "string"
        },
        {
         "name": "1980-1989",
         "rawType": "object",
         "type": "string"
        },
        {
         "name": "1990-1999",
         "rawType": "object",
         "type": "string"
        },
        {
         "name": "2000-2009",
         "rawType": "object",
         "type": "string"
        },
        {
         "name": "2010-2015",
         "rawType": "object",
         "type": "string"
        },
        {
         "name": " after 2016",
         "rawType": "object",
         "type": "string"
        }
       ],
       "ref": "b9bb3271-8669-41ba-9ef1-51eb0664b82e",
       "rows": [
        [
         "0",
         "GKZ",
         "Gemeindename",
         "Insgesamt",
         "Vor 1919",
         "1919 - 1949",
         "1950 - 1959",
         "1960 - 1969",
         "1970 - 1979",
         "1980 - 1989",
         "1990 - 1999",
         "2000 - 2009",
         "2010 - 2015",
         "2016 und später"
        ],
        [
         "1",
         "010010000000",
         "Flensburg, Stadt",
         "6,96",
         "7,28",
         "6,55",
         "6,4",
         "6,39",
         "6,71",
         "6,76",
         "6,52",
         "7,44",
         "8,36",
         "9,25"
        ],
        [
         "2",
         "010020000000",
         "Kiel, Landeshauptstadt",
         "7,64",
         "7,96",
         "7,47",
         "7,65",
         "7,2",
         "7,01",
         "7,82",
         "7,4",
         "8,48",
         "9,05",
         "10,86"
        ],
        [
         "3",
         "010030000000",
         "Lübeck, Hansestadt",
         "7,47",
         "8,06",
         "7,59",
         "7,29",
         "6,9",
         "6,94",
         "7,9",
         "7,05",
         "7,79",
         "8,51",
         "9,64"
        ],
        [
         "4",
         "010040000000",
         "Neumünster, Stadt",
         "6,22",
         "6,27",
         "5,8",
         "5,94",
         "6,15",
         "6,12",
         "6,31",
         "6,05",
         "7,11",
         "7,89",
         "8,72"
        ],
        [
         "5",
         "010510011011",
         "Brunsbüttel, Stadt",
         "5,74",
         "6,26",
         "5,81",
         "5,54",
         "5,62",
         "5,42",
         "5,39",
         "5,94",
         "5,65",
         "8,02",
         "8,24"
        ],
        [
         "6",
         "010510044044",
         "Heide, Stadt",
         "6,68",
         "6,58",
         "6,7",
         "6,44",
         "6,17",
         "5,88",
         "6,65",
         "6,42",
         "7,25",
         "8,32",
         "9,99"
        ],
        [
         "7",
         "010515163003",
         "Averlak",
         "5,12",
         "5,49",
         "4,18",
         "4,43",
         "4,99",
         "5,47",
         "4,16",
         "3",
         "4,72",
         "-",
         "4,38"
        ],
        [
         "8",
         "010515163010",
         "Brickeln",
         "5,73",
         "6,51",
         "5,25",
         "-",
         "-",
         "5,62",
         "-",
         "4,13",
         "-",
         "-",
         "-"
        ],
        [
         "9",
         "010515163012",
         "Buchholz (Kreis Dithmarschen)",
         "5",
         "5,1",
         "4,79",
         "5,48",
         "4,87",
         "4,79",
         "4,59",
         "4,77",
         "4,37",
         "-",
         "7"
        ],
        [
         "10",
         "010515163016",
         "Burg (Dithmarschen)",
         "5,67",
         "5,24",
         "5,5",
         "5,44",
         "5,92",
         "5,57",
         "5,59",
         "5,37",
         "5,49",
         "6,34",
         "8,1"
        ],
        [
         "11",
         "010515163022",
         "Dingen",
         "5,89",
         "4,41",
         "5",
         "-",
         "5,48",
         "8,5",
         "4,79",
         "-",
         "5,82",
         "5,98",
         "7,98"
        ],
        [
         "12",
         "010515163024",
         "Eddelak",
         "4,83",
         "5,06",
         "4,03",
         "4,94",
         "4,26",
         "4,17",
         "4,81",
         "5,23",
         "5",
         "-",
         "-"
        ],
        [
         "13",
         "010515163026",
         "Eggstedt",
         "4,97",
         "4,54",
         "5,06",
         "4,05",
         "6,11",
         "4,58",
         "-",
         "5,38",
         "-",
         "-",
         "8,06"
        ],
        [
         "14",
         "010515163032",
         "Frestedt",
         "5,12",
         "6,59",
         "4,33",
         "4,54",
         "3,61",
         "-",
         "6,54",
         "-",
         "-",
         "-",
         "3,26"
        ],
        [
         "15",
         "010515163037",
         "Großenrade",
         "4,9",
         "4,16",
         "5,85",
         "3,71",
         "3,99",
         "5,42",
         "7,18",
         "4,66",
         "-",
         "-",
         "-"
        ],
        [
         "16",
         "010515163051",
         "Hochdonn",
         "5,09",
         "5,09",
         "4,75",
         "3,7",
         "5,37",
         "6,19",
         "6,3",
         "4,64",
         "4,1",
         "-",
         "-"
        ],
        [
         "17",
         "010515163064",
         "Kuden",
         "4,95",
         "4,64",
         "4,09",
         "4,48",
         "3,46",
         "5,24",
         "-",
         "5,8",
         "-",
         "-",
         "5,47"
        ],
        [
         "18",
         "010515163089",
         "Quickborn",
         "4,88",
         "5,14",
         "6,17",
         "-",
         "-",
         "-",
         "-",
         "4,9",
         "-",
         "-",
         "-"
        ],
        [
         "19",
         "010515163097",
         "Sankt Michaelisdonn",
         "5,88",
         "4,93",
         "4,98",
         "5,23",
         "5,36",
         "5,36",
         "5,59",
         "5,8",
         "6,27",
         "-",
         "9,21"
        ],
        [
         "20",
         "010515163110",
         "Süderhastedt",
         "5,05",
         "5,18",
         "4,93",
         "3,44",
         "5,04",
         "-",
         "-",
         "4,85",
         "-",
         "-",
         "7,43"
        ],
        [
         "21",
         "010515166021",
         "Diekhusen-Fahrstedt",
         "6",
         "6,51",
         "5,64",
         "5",
         "4,78",
         "7,49",
         "-",
         "4,64",
         "6,62",
         "-",
         "-"
        ],
        [
         "22",
         "010515166034",
         "Friedrichskoog",
         "6,1",
         "5,43",
         "5,09",
         "4,89",
         "5,12",
         "6,13",
         "6,96",
         "6,7",
         "7,7",
         "5,23",
         "7,65"
        ],
        [
         "23",
         "010515166046",
         "Helse",
         "5,76",
         "5,29",
         "4,46",
         "5,44",
         "6,2",
         "5,47",
         "5,93",
         "6,74",
         "8,71",
         "-",
         "10"
        ],
        [
         "24",
         "010515166057",
         "Kaiser-Wilhelm-Koog",
         "6,1",
         "8,1",
         "-",
         "5,51",
         "-",
         "-",
         "7,66",
         "5,54",
         "5,17",
         "-",
         "-"
        ],
        [
         "25",
         "010515166062",
         "Kronprinzenkoog",
         "5,23",
         "5,18",
         "5,3",
         "5,78",
         "4,77",
         "4,92",
         "-",
         "5,31",
         "-",
         "-",
         "-"
        ],
        [
         "26",
         "010515166072",
         "Marne, Stadt",
         "6",
         "5,62",
         "5,62",
         "5,82",
         "5,85",
         "5,48",
         "5,86",
         "7,12",
         "7,82",
         "7,85",
         "7,44"
        ],
        [
         "27",
         "010515166073",
         "Marnerdeich",
         "5,81",
         "5,61",
         "4,73",
         "5,98",
         "-",
         "6,06",
         "6,78",
         "6,23",
         "7,2",
         "-",
         "-"
        ],
        [
         "28",
         "010515166076",
         "Neufeld",
         "5,37",
         "4,68",
         "4,49",
         "4,93",
         "6,84",
         "-",
         "-",
         "7,34",
         "-",
         "-",
         "-"
        ],
        [
         "29",
         "010515166077",
         "Neufelderkoog",
         "3,74",
         "-",
         "3",
         "-",
         "3,23",
         "5,33",
         "-",
         "-",
         "-",
         "-",
         "-"
        ],
        [
         "30",
         "010515166090",
         "Ramhusen",
         "5,23",
         "-",
         "-",
         "5",
         "5,39",
         "-",
         "-",
         "-",
         "-",
         "-",
         "-"
        ],
        [
         "31",
         "010515166103",
         "Schmedeswurth",
         "5,27",
         "4,91",
         "-",
         "5,21",
         "6,75",
         "-",
         "-",
         "5,77",
         "-",
         "-",
         "-"
        ],
        [
         "32",
         "010515166118",
         "Trennewurth",
         "4,38",
         "5,12",
         "-",
         "3,99",
         "-",
         "-",
         "-",
         "-",
         "-",
         "-",
         "-"
        ],
        [
         "33",
         "010515166119",
         "Volsemenhusen",
         "4,77",
         "6,07",
         "4,77",
         "-",
         "4,53",
         "-",
         "-",
         "-",
         "5,67",
         "-",
         "-"
        ],
        [
         "34",
         "010515169005",
         "Barkenholm",
         "5,63",
         "5,58",
         "5,87",
         "6,01",
         "4,25",
         "6,9",
         "-",
         "4,87",
         "-",
         "-",
         "-"
        ],
        [
         "35",
         "010515169008",
         "Bergewöhrden",
         "5,51",
         "-",
         "-",
         "5,08",
         "-",
         "6,25",
         "-",
         "-",
         "-",
         "-",
         "-"
        ],
        [
         "36",
         "010515169019",
         "Dellstedt",
         "4,94",
         "4,71",
         "5,11",
         "4,95",
         "4,09",
         "4,67",
         "5,35",
         "-",
         "-",
         "-",
         "8,2"
        ],
        [
         "37",
         "010515169020",
         "Delve",
         "4,91",
         "4,49",
         "4,17",
         "4,4",
         "4,91",
         "5,5",
         "-",
         "5,25",
         "9,74",
         "-",
         "6,7"
        ],
        [
         "38",
         "010515169023",
         "Dörpling",
         "5,1",
         "5",
         "5,66",
         "5,26",
         "5,66",
         "5,92",
         "-",
         "5,21",
         "3,26",
         "-",
         "-"
        ],
        [
         "39",
         "010515169030",
         "Fedderingen",
         "4,27",
         "4,49",
         "5,06",
         "-",
         "3,7",
         "-",
         "3,97",
         "4,24",
         "3",
         "-",
         "-"
        ],
        [
         "40",
         "010515169035",
         "Gaushorn",
         "6,09",
         "5,36",
         "-",
         "3,36",
         "-",
         "-",
         "6,46",
         "-",
         "-",
         "-",
         "6,75"
        ],
        [
         "41",
         "010515169036",
         "Glüsing",
         "4,48",
         "4,17",
         "5,19",
         "-",
         "-",
         "-",
         "-",
         "-",
         "-",
         "-",
         "-"
        ],
        [
         "42",
         "010515169038",
         "Groven",
         "5,23",
         "5,87",
         "-",
         "1,91",
         "-",
         "-",
         "-",
         "-",
         "-",
         "-",
         "-"
        ],
        [
         "43",
         "010515169047",
         "Hemme",
         "4,92",
         "4,82",
         "4,79",
         "5,29",
         "4,97",
         "4,43",
         "-",
         "4,6",
         "4,29",
         "-",
         "4,97"
        ],
        [
         "44",
         "010515169049",
         "Hennstedt (Kreis Dithmarschen)",
         "5,78",
         "4,87",
         "5,28",
         "5,37",
         "5,34",
         "5,31",
         "6,82",
         "6,37",
         "5,31",
         "6,32",
         "7,56"
        ],
        [
         "45",
         "010515169052",
         "Hövede",
         "4,43",
         ".",
         ".",
         ".",
         ".",
         ".",
         ".",
         ".",
         ".",
         ".",
         "."
        ],
        [
         "46",
         "010515169053",
         "Hollingstedt (Kreis Dithmarschen)",
         "5,03",
         "5,13",
         "4,8",
         "-",
         "3,38",
         "-",
         "-",
         "4,31",
         "-",
         "7,95",
         "-"
        ],
        [
         "47",
         "010515169058",
         "Karolinenkoog",
         "4,51",
         "4,73",
         "-",
         "5,18",
         "3,46",
         "2,85",
         "-",
         "-",
         "-",
         "-",
         "-"
        ],
        [
         "48",
         "010515169060",
         "Kleve (Kreis Dithmarschen)",
         "4,63",
         "4,05",
         "5,09",
         "6,06",
         "5,97",
         "-",
         "-",
         "5,08",
         "4,13",
         "-",
         "-"
        ],
        [
         "49",
         "010515169061",
         "Krempel",
         "5,04",
         "4,63",
         "3,84",
         "4,67",
         "5,39",
         "5,42",
         "5,75",
         "4,62",
         "4,59",
         "-",
         "-"
        ]
       ],
       "shape": {
        "columns": 13,
        "rows": 10787
       }
      },
      "text/html": [
       "<div>\n",
       "<style scoped>\n",
       "    .dataframe tbody tr th:only-of-type {\n",
       "        vertical-align: middle;\n",
       "    }\n",
       "\n",
       "    .dataframe tbody tr th {\n",
       "        vertical-align: top;\n",
       "    }\n",
       "\n",
       "    .dataframe thead th {\n",
       "        text-align: right;\n",
       "    }\n",
       "</style>\n",
       "<table border=\"1\" class=\"dataframe\">\n",
       "  <thead>\n",
       "    <tr style=\"text-align: right;\">\n",
       "      <th></th>\n",
       "      <th>GKZ</th>\n",
       "      <th>Gemeindename</th>\n",
       "      <th>Miete_raw</th>\n",
       "      <th>befor 1919</th>\n",
       "      <th>1919-1949</th>\n",
       "      <th>1950-1959</th>\n",
       "      <th>1960-1969</th>\n",
       "      <th>1970-1979</th>\n",
       "      <th>1980-1989</th>\n",
       "      <th>1990-1999</th>\n",
       "      <th>2000-2009</th>\n",
       "      <th>2010-2015</th>\n",
       "      <th>after 2016</th>\n",
       "    </tr>\n",
       "  </thead>\n",
       "  <tbody>\n",
       "    <tr>\n",
       "      <th>0</th>\n",
       "      <td>GKZ</td>\n",
       "      <td>Gemeindename</td>\n",
       "      <td>Insgesamt</td>\n",
       "      <td>Vor 1919</td>\n",
       "      <td>1919 - 1949</td>\n",
       "      <td>1950 - 1959</td>\n",
       "      <td>1960 - 1969</td>\n",
       "      <td>1970 - 1979</td>\n",
       "      <td>1980 - 1989</td>\n",
       "      <td>1990 - 1999</td>\n",
       "      <td>2000 - 2009</td>\n",
       "      <td>2010 - 2015</td>\n",
       "      <td>2016 und später</td>\n",
       "    </tr>\n",
       "    <tr>\n",
       "      <th>1</th>\n",
       "      <td>010010000000</td>\n",
       "      <td>Flensburg, Stadt</td>\n",
       "      <td>6,96</td>\n",
       "      <td>7,28</td>\n",
       "      <td>6,55</td>\n",
       "      <td>6,4</td>\n",
       "      <td>6,39</td>\n",
       "      <td>6,71</td>\n",
       "      <td>6,76</td>\n",
       "      <td>6,52</td>\n",
       "      <td>7,44</td>\n",
       "      <td>8,36</td>\n",
       "      <td>9,25</td>\n",
       "    </tr>\n",
       "    <tr>\n",
       "      <th>2</th>\n",
       "      <td>010020000000</td>\n",
       "      <td>Kiel, Landeshauptstadt</td>\n",
       "      <td>7,64</td>\n",
       "      <td>7,96</td>\n",
       "      <td>7,47</td>\n",
       "      <td>7,65</td>\n",
       "      <td>7,2</td>\n",
       "      <td>7,01</td>\n",
       "      <td>7,82</td>\n",
       "      <td>7,4</td>\n",
       "      <td>8,48</td>\n",
       "      <td>9,05</td>\n",
       "      <td>10,86</td>\n",
       "    </tr>\n",
       "    <tr>\n",
       "      <th>3</th>\n",
       "      <td>010030000000</td>\n",
       "      <td>Lübeck, Hansestadt</td>\n",
       "      <td>7,47</td>\n",
       "      <td>8,06</td>\n",
       "      <td>7,59</td>\n",
       "      <td>7,29</td>\n",
       "      <td>6,9</td>\n",
       "      <td>6,94</td>\n",
       "      <td>7,9</td>\n",
       "      <td>7,05</td>\n",
       "      <td>7,79</td>\n",
       "      <td>8,51</td>\n",
       "      <td>9,64</td>\n",
       "    </tr>\n",
       "    <tr>\n",
       "      <th>4</th>\n",
       "      <td>010040000000</td>\n",
       "      <td>Neumünster, Stadt</td>\n",
       "      <td>6,22</td>\n",
       "      <td>6,27</td>\n",
       "      <td>5,8</td>\n",
       "      <td>5,94</td>\n",
       "      <td>6,15</td>\n",
       "      <td>6,12</td>\n",
       "      <td>6,31</td>\n",
       "      <td>6,05</td>\n",
       "      <td>7,11</td>\n",
       "      <td>7,89</td>\n",
       "      <td>8,72</td>\n",
       "    </tr>\n",
       "    <tr>\n",
       "      <th>...</th>\n",
       "      <td>...</td>\n",
       "      <td>...</td>\n",
       "      <td>...</td>\n",
       "      <td>...</td>\n",
       "      <td>...</td>\n",
       "      <td>...</td>\n",
       "      <td>...</td>\n",
       "      <td>...</td>\n",
       "      <td>...</td>\n",
       "      <td>...</td>\n",
       "      <td>...</td>\n",
       "      <td>...</td>\n",
       "      <td>...</td>\n",
       "    </tr>\n",
       "    <tr>\n",
       "      <th>10782</th>\n",
       "      <td>1,60775E+11</td>\n",
       "      <td>Göpfersdorf</td>\n",
       "      <td>4,19</td>\n",
       "      <td>4,83</td>\n",
       "      <td>-</td>\n",
       "      <td>-</td>\n",
       "      <td>-</td>\n",
       "      <td>-</td>\n",
       "      <td>-</td>\n",
       "      <td>-</td>\n",
       "      <td>-</td>\n",
       "      <td>-</td>\n",
       "      <td>-</td>\n",
       "    </tr>\n",
       "    <tr>\n",
       "      <th>10783</th>\n",
       "      <td>1,60775E+11</td>\n",
       "      <td>Langenleuba-Niederhain</td>\n",
       "      <td>4,4</td>\n",
       "      <td>4</td>\n",
       "      <td>4,73</td>\n",
       "      <td>5,21</td>\n",
       "      <td>4,66</td>\n",
       "      <td>4,57</td>\n",
       "      <td>3,68</td>\n",
       "      <td>4,36</td>\n",
       "      <td>4,35</td>\n",
       "      <td>3,75</td>\n",
       "      <td>5,32</td>\n",
       "    </tr>\n",
       "    <tr>\n",
       "      <th>10784</th>\n",
       "      <td>1,60775E+11</td>\n",
       "      <td>Nobitz</td>\n",
       "      <td>4,69</td>\n",
       "      <td>4,5</td>\n",
       "      <td>4,61</td>\n",
       "      <td>4,59</td>\n",
       "      <td>4,65</td>\n",
       "      <td>4,85</td>\n",
       "      <td>4,52</td>\n",
       "      <td>4,85</td>\n",
       "      <td>5,63</td>\n",
       "      <td>6,57</td>\n",
       "      <td>4,96</td>\n",
       "    </tr>\n",
       "    <tr>\n",
       "      <th>10785</th>\n",
       "      <td>1,60775E+11</td>\n",
       "      <td>Dobitschen</td>\n",
       "      <td>4,44</td>\n",
       "      <td>3,52</td>\n",
       "      <td>-</td>\n",
       "      <td>4,98</td>\n",
       "      <td>3,86</td>\n",
       "      <td>-</td>\n",
       "      <td>4,69</td>\n",
       "      <td>4,87</td>\n",
       "      <td>-</td>\n",
       "      <td>-</td>\n",
       "      <td>8</td>\n",
       "    </tr>\n",
       "    <tr>\n",
       "      <th>10786</th>\n",
       "      <td>1,60775E+11</td>\n",
       "      <td>Schmölln, Stadt</td>\n",
       "      <td>4,96</td>\n",
       "      <td>4,76</td>\n",
       "      <td>5,3</td>\n",
       "      <td>5,01</td>\n",
       "      <td>5,08</td>\n",
       "      <td>5</td>\n",
       "      <td>4,62</td>\n",
       "      <td>5,01</td>\n",
       "      <td>4,86</td>\n",
       "      <td>5,71</td>\n",
       "      <td>6,54</td>\n",
       "    </tr>\n",
       "  </tbody>\n",
       "</table>\n",
       "<p>10787 rows × 13 columns</p>\n",
       "</div>"
      ],
      "text/plain": [
       "                GKZ            Gemeindename  Miete_raw befor 1919  \\\n",
       "0               GKZ            Gemeindename  Insgesamt   Vor 1919   \n",
       "1      010010000000        Flensburg, Stadt       6,96       7,28   \n",
       "2      010020000000  Kiel, Landeshauptstadt       7,64       7,96   \n",
       "3      010030000000      Lübeck, Hansestadt       7,47       8,06   \n",
       "4      010040000000       Neumünster, Stadt       6,22       6,27   \n",
       "...             ...                     ...        ...        ...   \n",
       "10782   1,60775E+11             Göpfersdorf       4,19       4,83   \n",
       "10783   1,60775E+11  Langenleuba-Niederhain        4,4          4   \n",
       "10784   1,60775E+11                  Nobitz       4,69        4,5   \n",
       "10785   1,60775E+11              Dobitschen       4,44       3,52   \n",
       "10786   1,60775E+11         Schmölln, Stadt       4,96       4,76   \n",
       "\n",
       "         1919-1949    1950-1959    1960-1969    1970-1979    1980-1989  \\\n",
       "0      1919 - 1949  1950 - 1959  1960 - 1969  1970 - 1979  1980 - 1989   \n",
       "1             6,55          6,4         6,39         6,71         6,76   \n",
       "2             7,47         7,65          7,2         7,01         7,82   \n",
       "3             7,59         7,29          6,9         6,94          7,9   \n",
       "4              5,8         5,94         6,15         6,12         6,31   \n",
       "...            ...          ...          ...          ...          ...   \n",
       "10782            -            -            -            -            -   \n",
       "10783         4,73         5,21         4,66         4,57         3,68   \n",
       "10784         4,61         4,59         4,65         4,85         4,52   \n",
       "10785            -         4,98         3,86            -         4,69   \n",
       "10786          5,3         5,01         5,08            5         4,62   \n",
       "\n",
       "         1990-1999    2000-2009    2010-2015       after 2016  \n",
       "0      1990 - 1999  2000 - 2009  2010 - 2015  2016 und später  \n",
       "1             6,52         7,44         8,36             9,25  \n",
       "2              7,4         8,48         9,05            10,86  \n",
       "3             7,05         7,79         8,51             9,64  \n",
       "4             6,05         7,11         7,89             8,72  \n",
       "...            ...          ...          ...              ...  \n",
       "10782            -            -            -                -  \n",
       "10783         4,36         4,35         3,75             5,32  \n",
       "10784         4,85         5,63         6,57             4,96  \n",
       "10785         4,87            -            -                8  \n",
       "10786         5,01         4,86         5,71             6,54  \n",
       "\n",
       "[10787 rows x 13 columns]"
      ]
     },
     "execution_count": 10,
     "metadata": {},
     "output_type": "execute_result"
    }
   ],
   "source": [
    "df5 = pd.read_csv(\"../data/4000W-0005_de.csv\", sep=\";\", header=None, \n",
    "                  names=[\"GKZ\",\"Gemeindename\",\n",
    "                         \"Miete_raw\",\n",
    "                        \"befor 1919\",\n",
    "                        \"1919-1949\",\n",
    "                        \"1950-1959\",\n",
    "                        \"1960-1969\",\n",
    "                        \"1970-1979\",\n",
    "                        \"1980-1989\",\n",
    "                        \"1990-1999\",\n",
    "                        \"2000-2009\",\n",
    "                        \"2010-2015\",\n",
    "                        \" after 2016\"\n",
    "                        ], encoding=\"utf-8-sig\")\n",
    "df5"
   ]
  },
  {
   "cell_type": "code",
   "execution_count": 11,
   "id": "64949011",
   "metadata": {},
   "outputs": [
    {
     "name": "stdout",
     "output_type": "stream",
     "text": [
      "\n",
      "Datentypen:\n",
      "GKZ             object\n",
      "Gemeindename    object\n",
      "Miete_raw       object\n",
      "befor 1919      object\n",
      "1919-1949       object\n",
      "1950-1959       object\n",
      "1960-1969       object\n",
      "1970-1979       object\n",
      "1980-1989       object\n",
      "1990-1999       object\n",
      "2000-2009       object\n",
      "2010-2015       object\n",
      " after 2016     object\n",
      "dtype: object\n"
     ]
    }
   ],
   "source": [
    "# --- 3. Datentypen prüfen ---\n",
    "print(\"\\nDatentypen:\")\n",
    "print(df5.dtypes)"
   ]
  },
  {
   "cell_type": "code",
   "execution_count": 12,
   "id": "3634ce19",
   "metadata": {},
   "outputs": [
    {
     "name": "stdout",
     "output_type": "stream",
     "text": [
      "\n",
      "Fehlende Werte (in %):\n",
      "GKZ             0.0\n",
      "Gemeindename    0.0\n",
      "Miete_raw       0.0\n",
      "befor 1919      0.0\n",
      "1919-1949       0.0\n",
      "1950-1959       0.0\n",
      "1960-1969       0.0\n",
      "1970-1979       0.0\n",
      "1980-1989       0.0\n",
      "1990-1999       0.0\n",
      "2000-2009       0.0\n",
      "2010-2015       0.0\n",
      " after 2016     0.0\n",
      "dtype: float64\n"
     ]
    }
   ],
   "source": [
    "# --- 4. Fehlende Werte prüfen ---\n",
    "print(\"\\nFehlende Werte (in %):\")\n",
    "print(df5.isna().mean().sort_values(ascending=False).head(15))"
   ]
  },
  {
   "cell_type": "code",
   "execution_count": 13,
   "id": "ccbca823",
   "metadata": {},
   "outputs": [
    {
     "name": "stdout",
     "output_type": "stream",
     "text": [
      "\n",
      "Basisstatistik:\n",
      "                GKZ  Gemeindename Miete_raw befor 1919 1919-1949 1950-1959  \\\n",
      "count         10787         10787     10787      10787     10787     10787   \n",
      "unique         8480         10760       753        816       813       787   \n",
      "top     1,30715E+11  Neuenkirchen      4,94          -         -         -   \n",
      "freq            142             5        60        634      1267      1779   \n",
      "\n",
      "       1960-1969 1970-1979 1980-1989 1990-1999 2000-2009 2010-2015  after 2016  \n",
      "count      10787     10787     10787     10787     10787     10787       10787  \n",
      "unique       786       793       815       820       875       950        1045  \n",
      "top            -         -         -         -         -         -           -  \n",
      "freq        1261      1469      1705      1193      2217      4000        3508  \n"
     ]
    }
   ],
   "source": [
    "# --- 5. Basisstatistik ---\n",
    "print(\"\\nBasisstatistik:\")\n",
    "print(df5.describe(include=\"all\"))"
   ]
  },
  {
   "cell_type": "code",
   "execution_count": 14,
   "id": "3b07b0d7",
   "metadata": {},
   "outputs": [
    {
     "name": "stdout",
     "output_type": "stream",
     "text": [
      "Zeilen gesamt: 10787\n",
      "Eindeutige GKZ: 8480\n",
      "Hat Duplikate (GKZ)? True\n",
      "\n",
      "Beispiele:\n",
      "            GKZ            Gemeindename  Miete_raw befor 1919    1919-1949  \\\n",
      "0           GKZ            Gemeindename  Insgesamt   Vor 1919  1919 - 1949   \n",
      "1  010010000000        Flensburg, Stadt       6,96       7,28         6,55   \n",
      "2  010020000000  Kiel, Landeshauptstadt       7,64       7,96         7,47   \n",
      "3  010030000000      Lübeck, Hansestadt       7,47       8,06         7,59   \n",
      "4  010040000000       Neumünster, Stadt       6,22       6,27          5,8   \n",
      "\n",
      "     1950-1959    1960-1969    1970-1979    1980-1989    1990-1999  \\\n",
      "0  1950 - 1959  1960 - 1969  1970 - 1979  1980 - 1989  1990 - 1999   \n",
      "1          6,4         6,39         6,71         6,76         6,52   \n",
      "2         7,65          7,2         7,01         7,82          7,4   \n",
      "3         7,29          6,9         6,94          7,9         7,05   \n",
      "4         5,94         6,15         6,12         6,31         6,05   \n",
      "\n",
      "     2000-2009    2010-2015       after 2016  \n",
      "0  2000 - 2009  2010 - 2015  2016 und später  \n",
      "1         7,44         8,36             9,25  \n",
      "2         8,48         9,05            10,86  \n",
      "3         7,79         8,51             9,64  \n",
      "4         7,11         7,89             8,72  \n"
     ]
    }
   ],
   "source": [
    "# 7) Übersicht drucken\n",
    "print(\"Zeilen gesamt:\", len(df5))\n",
    "print(\"Eindeutige GKZ:\", df5[\"GKZ\"].nunique())\n",
    "print(\"Hat Duplikate (GKZ)?\", df5[\"GKZ\"].duplicated().any())\n",
    "print(\"\\nBeispiele:\")\n",
    "print(df5.head(5))"
   ]
  },
  {
   "cell_type": "code",
   "execution_count": 15,
   "id": "96fee881",
   "metadata": {},
   "outputs": [
    {
     "name": "stdout",
     "output_type": "stream",
     "text": [
      "0005 – Größe: (10786, 10)\n",
      "             Gemeindename  Insgesamt  vor_1919  1919_1949  1950_1959  \\\n",
      "0        Flensburg, Stadt       6.96      7.28       6.55       6.40   \n",
      "1  Kiel, Landeshauptstadt       7.64      7.96       7.47       7.65   \n",
      "2      Lübeck, Hansestadt       7.47      8.06       7.59       7.29   \n",
      "\n",
      "   1970_1979  1980_1989  2000_2009  2010_2015  2016_plus  \n",
      "0       6.71       6.76       7.44       8.36       9.25  \n",
      "1       7.01       7.82       8.48       9.05      10.86  \n",
      "2       6.94       7.90       7.79       8.51       9.64  \n",
      "Gespeichert → ../data/clean/zensus_0005_clean1.csv\n"
     ]
    }
   ],
   "source": [
    "import pandas as pd\n",
    "import os\n",
    "\n",
    "# --- 0005: Baujahre ---\n",
    "# 1) Einlesen (Delimiter automatisch erkennen, vorhandene Kopfzeile nutzen)\n",
    "df5 = pd.read_csv(\"../data/4000W-0005_de.csv\", sep=None, engine=\"python\", dtype=str)\n",
    "\n",
    "# 2) Spalten sauber benennen (Tippfehler ausbessern)\n",
    "wanted_cols = [\n",
    "    \"GKZ\", \"Gemeindename\", \"Insgesamt\",\n",
    "    \"vor_1919\", \"1919_1949\", \"1950_1959\", \"1960_1969\",\n",
    "    \"1970_1979\", \"1980_1989\", \"1990_1999\",\n",
    "    \"2000_2009\", \"2010_2015\", \"2016_plus\"\n",
    "]\n",
    "# Mögliche Originalnamen → Zielnamen\n",
    "rename_map = {\n",
    "    \"Miete_raw\": \"Insgesamt\", \"Insgesamt\": \"Insgesamt\",\n",
    "    \"Vor 1919\": \"vor_1919\", \"befor 1919\": \"vor_1919\",\n",
    "    \"1919-1949\": \"1919_1949\", \"1919 - 1949\": \"1919_1949\",\n",
    "    \"1950-1959\": \"1950_1959\", \"1950 - 1959\": \"1950_1959\",\n",
    "    \"1960-1969\": \"1960_1969\", \"1660-1969\": \"1960_1969\",\n",
    "    \"1970-1979\": \"1970_1979\", \"1970 - 1979\": \"1970_1979\",\n",
    "    \"1980-1989\": \"1980_1989\", \"1980 - 1989\": \"1980_1989\",\n",
    "    \"1990-1999\": \"1990_1999\", \"1690-1999\": \"1990_1999\",\n",
    "    \"2000-2009\": \"2000_2009\", \"2000 - 2009\": \"2000_2009\",\n",
    "    \"2010-2015\": \"2010_2015\", \"2010 - 2015\": \"2010_2015\",\n",
    "    \"2016 und später\": \"2016_plus\", \"after 2016\": \"2016_plus\",\n",
    "}\n",
    "df5 = df5.rename(columns=rename_map)\n",
    "\n",
    "# Falls die Datei noch andere/alte Kopfzeilenzeilen enthält: nur die gewünschten Spalten behalten\n",
    "keep = [c for c in wanted_cols if c in df5.columns]\n",
    "df5 = df5[keep].copy()\n",
    "\n",
    "# 3) Zahlen konvertieren\n",
    "num_cols = [c for c in df5.columns if c not in (\"GKZ\", \"Gemeindename\")]\n",
    "for c in num_cols:\n",
    "    df5[c] = (\n",
    "        df5[c]\n",
    "        .astype(str)\n",
    "        .str.replace(r\"[^0-9,.\\-]\", \"\", regex=True)  # Fußnoten/Leerzeichen raus\n",
    "        .str.replace(\",\", \".\", regex=False)\n",
    "    )\n",
    "    df5[c] = pd.to_numeric(df5[c], errors=\"coerce\")\n",
    "\n",
    "# 4) NaNs füllen: erst zeilenweise mit 'Insgesamt', dann Spaltenmedian\n",
    "for c in num_cols:\n",
    "    if c == \"Insgesamt\":\n",
    "        continue\n",
    "    df5[c] = df5[c].fillna(df5[\"Insgesamt\"])\n",
    "med = df5[num_cols].median(numeric_only=True)\n",
    "df5[num_cols] = df5[num_cols].fillna(med)\n",
    "\n",
    "print(\"0005 – Größe:\", df5.shape)\n",
    "print(df5.head(3))\n",
    "\n",
    "# 5) Speichern\n",
    "os.makedirs(\"../data/clean\", exist_ok=True)\n",
    "df5.to_csv(\"../data/clean/zensus_0005_clean1.csv\", index=False, encoding=\"utf-8\")\n",
    "print(\"Gespeichert → ../data/clean/zensus_0005_clean1.csv\")\n"
   ]
  },
  {
   "cell_type": "code",
   "execution_count": 16,
   "id": "148d14db",
   "metadata": {},
   "outputs": [
    {
     "name": "stdout",
     "output_type": "stream",
     "text": [
      "0005 – Größe: (10786, 11)\n",
      "            GKZ            Gemeindename  Insgesamt  vor_1919  1919_1949  \\\n",
      "0  010010000000        Flensburg, Stadt       6.96      7.28       6.55   \n",
      "1  010020000000  Kiel, Landeshauptstadt       7.64      7.96       7.47   \n",
      "2  010030000000      Lübeck, Hansestadt       7.47      8.06       7.59   \n",
      "\n",
      "   1950_1959  1970_1979  1980_1989  2000_2009  2010_2015  2016_plus  \n",
      "0       6.40       6.71       6.76       7.44       8.36       9.25  \n",
      "1       7.65       7.01       7.82       8.48       9.05      10.86  \n",
      "2       7.29       6.94       7.90       7.79       8.51       9.64  \n",
      "Gespeichert → ../data/clean/zensus_0005_clean1.csv\n"
     ]
    }
   ],
   "source": [
    "import pandas as pd\n",
    "import os\n",
    "\n",
    "# --- 0005: Baujahre ---\n",
    "# 1) Einlesen (Delimiter automatisch erkennen, BOM sicher entfernen)\n",
    "df5 = pd.read_csv(\"../data/4000W-0005_de.csv\", sep=None, engine=\"python\", dtype=str, encoding=\"utf-8-sig\")\n",
    "\n",
    "# 1a) Spaltennamen säubern (BOM, Leerzeichen, doppelte Spaces)\n",
    "df5.columns = (df5.columns\n",
    "                 .str.replace(\"\\ufeff\", \"\", regex=False)   # BOM weg\n",
    "                 .str.strip()\n",
    "                 .str.replace(r\"\\s+\", \" \", regex=True))\n",
    "\n",
    "# 2) Spalten sauber benennen (Tippfehler ausbessern)\n",
    "wanted_cols = [\n",
    "    \"GKZ\", \"Gemeindename\", \"Insgesamt\",\n",
    "    \"vor_1919\", \"1919_1949\", \"1950_1959\", \"1960_1969\",\n",
    "    \"1970_1979\", \"1980_1989\", \"1990_1999\",\n",
    "    \"2000_2009\", \"2010_2015\", \"2016_plus\"\n",
    "]\n",
    "rename_map = {\n",
    "    \"Miete_raw\": \"Insgesamt\", \"Insgesamt\": \"Insgesamt\",\n",
    "    \"Vor 1919\": \"vor_1919\", \"befor 1919\": \"vor_1919\",\n",
    "    \"1919-1949\": \"1919_1949\", \"1919 - 1949\": \"1919_1949\",\n",
    "    \"1950-1959\": \"1950_1959\", \"1950 - 1959\": \"1950_1959\",\n",
    "    \"1960-1969\": \"1960_1969\", \"1660-1969\": \"1960_1969\",\n",
    "    \"1970-1979\": \"1970_1979\", \"1970 - 1979\": \"1970_1979\",\n",
    "    \"1980-1989\": \"1980_1989\", \"1980 - 1989\": \"1980_1989\",\n",
    "    \"1990-1999\": \"1990_1999\", \"1690-1999\": \"1990_1999\",\n",
    "    \"2000-2009\": \"2000_2009\", \"2000 - 2009\": \"2000_2009\",\n",
    "    \"2010-2015\": \"2010_2015\", \"2010 - 2015\": \"2010_2015\",\n",
    "    \"2016 und später\": \"2016_plus\", \"after 2016\": \"2016_plus\",\n",
    "    # gelegentliche Kopfzeilen-Varianten:\n",
    "    \"Gemeinde­name\": \"Gemeindename\", \"Gemeinde name\": \"Gemeindename\",\n",
    "}\n",
    "\n",
    "df5 = df5.rename(columns=rename_map)\n",
    "\n",
    "# --- Falls GKZ mit anderem Namen kommt (z.B. '﻿GKZ'): robust finden ---\n",
    "if \"GKZ\" not in df5.columns:\n",
    "    # suche spalten, die wie GKZ aussehen\n",
    "    for c in df5.columns:\n",
    "        if c.strip().lower() in {\"gkz\", \"ars\", \"kgs\", \"gemeindeschlüssel\", \"amtlicher regionalschlüssel\"}:\n",
    "            df5 = df5.rename(columns={c: \"GKZ\"})\n",
    "            break\n",
    "\n",
    "# 2a) Jetzt erst die gewünschten Spalten ziehen (GKZ bleibt erhalten)\n",
    "keep = [c for c in wanted_cols if c in df5.columns]\n",
    "df5 = df5[keep].copy()\n",
    "\n",
    "# 3) Zahlen konvertieren (GKZ/Gemeindename ausnehmen)\n",
    "num_cols = [c for c in df5.columns if c not in (\"GKZ\", \"Gemeindename\")]\n",
    "for c in num_cols:\n",
    "    df5[c] = (\n",
    "        df5[c].astype(str)\n",
    "              .str.replace(r\"[^0-9,.\\-]\", \"\", regex=True)\n",
    "              .str.replace(\",\", \".\", regex=False)\n",
    "    )\n",
    "    df5[c] = pd.to_numeric(df5[c], errors=\"coerce\")\n",
    "\n",
    "# 3a) GKZ als 12-stellige reine Ziffern (Excel-Exporte -> wissenschaftliche Notation fixen)\n",
    "if \"GKZ\" in df5.columns:\n",
    "    df5[\"GKZ\"] = (df5[\"GKZ\"].astype(str)\n",
    "                            .str.replace(r\"[^0-9]\", \"\", regex=True)\n",
    "                            .str.zfill(12))\n",
    "\n",
    "# 4) NaNs füllen: erst zeilenweise mit 'Insgesamt', dann Spaltenmedian\n",
    "for c in num_cols:\n",
    "    if c == \"Insgesamt\":\n",
    "        continue\n",
    "    df5[c] = df5[c].fillna(df5[\"Insgesamt\"])\n",
    "med = df5[num_cols].median(numeric_only=True)\n",
    "df5[num_cols] = df5[num_cols].fillna(med)\n",
    "\n",
    "print(\"0005 – Größe:\", df5.shape)\n",
    "print(df5.head(3))\n",
    "\n",
    "# 5) Speichern\n",
    "os.makedirs(\"../data/clean\", exist_ok=True)\n",
    "df5.to_csv(\"../data/clean/zensus_0005_clean1.csv\", index=False, encoding=\"utf-8\")\n",
    "print(\"Gespeichert → ../data/clean/zensus_0005_clean1.csv\")\n"
   ]
  },
  {
   "cell_type": "code",
   "execution_count": 47,
   "id": "492f9487",
   "metadata": {},
   "outputs": [
    {
     "name": "stdout",
     "output_type": "stream",
     "text": [
      "0008 – Größe: (10786, 20)\n",
      "           ﻿GKZ            Gemeindename  Insgesamt  Unter 30 m²  30 - 39 m²  \\\n",
      "0  1.001000e+10        Flensburg, Stadt       6.96        11.18        8.25   \n",
      "1  1.002000e+10  Kiel, Landeshauptstadt       7.64        10.34        8.55   \n",
      "2  1.003000e+10      Lübeck, Hansestadt       7.47        10.01        8.06   \n",
      "\n",
      "   40 - 49 m²  50 - 59 m²  60 - 69 m²  70 - 79 m²  80 - 89 m²  90 - 99 m²  \\\n",
      "0        6.85        6.87        6.67        6.57        6.63        6.60   \n",
      "1        7.71        7.42        7.34        7.32        7.42        7.60   \n",
      "2        7.54        7.33        7.12        7.08        7.41        7.62   \n",
      "\n",
      "   100 - 109 m²  110 - 119 m²  120 - 129 m²  130 - 139 m²  140 - 149 m²  \\\n",
      "0          6.80          6.99          6.88          6.59          6.36   \n",
      "1          7.72          7.85          7.92          7.52          7.43   \n",
      "2          7.77          7.99          7.76          7.63          7.52   \n",
      "\n",
      "   150 - 159 m²  160 - 169 m²  170 - 179 m²  180 m² und mehr  \n",
      "0          6.23          6.07          6.74             5.28  \n",
      "1          7.18          7.55          7.13             7.16  \n",
      "2          7.54          7.00          7.62             6.18  \n",
      "Gespeichert → ../data/clean/zensus_0008_clean.csv\n"
     ]
    }
   ],
   "source": [
    "# --- 0008: Wohnfläche ---\n",
    "df8 = pd.read_csv(\"../data/4000W-0008_de.csv\", sep=None, engine=\"python\", dtype=str)\n",
    "\n",
    "# erwartete Basis\n",
    "base_cols = [\"GKZ\", \"Gemeindename\", \"Insgesamt\"]\n",
    "df8.columns = [c.strip() for c in df8.columns]\n",
    "\n",
    "# numerische Spalten (alles außer GKZ/Gemeindename)\n",
    "num8 = [c for c in df8.columns if c not in (\"GKZ\", \"Gemeindename\")]\n",
    "\n",
    "for c in num8:\n",
    "    df8[c] = (\n",
    "        df8[c].astype(str)\n",
    "        .str.replace(r\"[^0-9,.\\-]\", \"\", regex=True)\n",
    "        .str.replace(\",\", \".\", regex=False)\n",
    "    )\n",
    "    df8[c] = pd.to_numeric(df8[c], errors=\"coerce\")\n",
    "\n",
    "for c in num8:\n",
    "    if c == \"Insgesamt\":\n",
    "        continue\n",
    "    df8[c] = df8[c].fillna(df8[\"Insgesamt\"])\n",
    "med8 = df8[num8].median(numeric_only=True)\n",
    "df8[num8] = df8[num8].fillna(med8)\n",
    "\n",
    "print(\"0008 – Größe:\", df8.shape)\n",
    "print(df8.head(3))\n",
    "\n",
    "df8.to_csv(\"../data/clean/zensus_0008_clean.csv\", index=False, encoding=\"utf-8\")\n",
    "print(\"Gespeichert → ../data/clean/zensus_0008_clean.csv\")\n"
   ]
  },
  {
   "cell_type": "code",
   "execution_count": 51,
   "id": "946f30ad",
   "metadata": {},
   "outputs": [
    {
     "name": "stdout",
     "output_type": "stream",
     "text": [
      "OK -> ./data/clean/zensus_0005_factors.csv\n",
      "OK -> ./data/clean/zensus_0008_factors.csv\n"
     ]
    }
   ],
   "source": [
    "import pandas as pd\n",
    "\n",
    "# --- 0005: Baujahr-Faktoren ---\n",
    "z5 = pd.read_csv(\"../data/clean/zensus_0005_clean.csv\")\n",
    "z5[\"city_simple\"] = z5[\"Gemeindename\"].str.split(\",\").str[0].str.strip().str.lower()\n",
    "\n",
    "age_cols = [\"vor_1919\",\"1919_1949\",\"1950_1959\",\"1970_1979\",\"1980_1989\",\"2000_2009\",\"2010_2015\",\"2016_plus\"]\n",
    "for c in age_cols:\n",
    "    z5[c] = z5[c] / z5[\"Insgesamt\"]     # Faktor = relativer Auf-/Abschlag\n",
    "\n",
    "z5_factors = z5[[\"city_simple\"] + age_cols].copy()\n",
    "z5_factors.to_csv(\"../data/clean/zensus_0005_factors.csv\", index=False)\n",
    "print(\"OK -> ./data/clean/zensus_0005_factors.csv\")\n",
    "\n",
    "# --- 0008: Größen-Faktoren ---\n",
    "z8 = pd.read_csv(\"../data/clean/zensus_0008_clean.csv\")\n",
    "z8[\"city_simple\"] = z8[\"Gemeindename\"].str.split(\",\").str[0].str.strip().str.lower()\n",
    "\n",
    "size_cols = [\n",
    "    \"Unter 30 m²\",\"30 - 39 m²\",\"40 - 49 m²\",\"50 - 59 m²\",\"60 - 69 m²\",\n",
    "    \"70 - 79 m²\",\"80 - 89 m²\",\"90 - 99 m²\",\"100 - 109 m²\",\"110 - 119 m²\",\n",
    "    \"120 - 129 m²\",\"130 - 139 m²\",\"140 - 149 m²\",\"150 - 159 m²\",\n",
    "    \"160 - 169 m²\",\"170 - 179 m²\",\"180 m² und mehr\"\n",
    "]\n",
    "for c in size_cols:\n",
    "    z8[c] = z8[c] / z8[\"Insgesamt\"]\n",
    "\n",
    "z8_factors = z8[[\"city_simple\"] + size_cols].copy()\n",
    "z8_factors.to_csv(\"../data/clean/zensus_0008_factors.csv\", index=False)\n",
    "print(\"OK -> ./data/clean/zensus_0008_factors.csv\")\n"
   ]
  },
  {
   "cell_type": "code",
   "execution_count": null,
   "id": "a51f7a69",
   "metadata": {},
   "outputs": [],
   "source": [
    "import sqlite3, pandas as pd, numpy as np, re\n",
    "\n",
    "# --- Pfade ---\n",
    "DB_PATH = \"../data/hausverwaltung.db\"\n",
    "ZENSUS_0004 = \"../data/clean/zensus_0004_clean.csv\"  # enthält: GKZ, Gemeindename, Miete\n",
    "\n",
    "# --- Stadtnamen \"vereinheitlichen\": klein schreiben, nach Komma abschneiden, Zusätze entfernen ---\n",
    "REMOVE_TOKENS = [\n",
    "    \"stadt\", \"kreisfreie stadt\", \"landeshauptstadt\", \"kreis\", \"gemeinde\",\n",
    "    \"hansestadt\", \"universitätsstadt\", \"große kreisstadt\", \"kreisstadt\"\n",
    "]\n",
    "\n",
    "def normalize_city(s: str) -> str:\n",
    "    if pd.isna(s):\n",
    "        return \"\"\n",
    "    s = str(s).strip().lower()\n",
    "    # alles nach dem ersten Komma weg (z.B. \"Kiel, Landeshauptstadt\" -> \"Kiel\")\n",
    "    s = s.split(\",\")[0].strip()\n",
    "    # Klammerzusätze löschen: \"Musterstadt (Altstadt)\" -> \"Musterstadt\"\n",
    "    s = re.sub(r\"\\s*\\(.*?\\)\\s*\", \" \", s).strip()\n",
    "    # Mehrfache Leerzeichen auf eins\n",
    "    s = re.sub(r\"\\s+\", \" \", s)\n",
    "    # Zusätze am Ende wie \"stadt\", \"gemeinde\" etc. entfernen\n",
    "    for tok in REMOVE_TOKENS:\n",
    "        s = re.sub(rf\"\\b{tok}\\b$\", \"\", s).strip()\n",
    "    return s\n"
   ]
  },
  {
   "cell_type": "code",
   "execution_count": 54,
   "id": "051af186",
   "metadata": {},
   "outputs": [
    {
     "name": "stdout",
     "output_type": "stream",
     "text": [
      "Zensus-Namen (unique): 10120\n"
     ]
    }
   ],
   "source": [
    "z4 = pd.read_csv(ZENSUS_0004)\n",
    "# Erwartete Spalten: [\"GKZ\",\"Gemeindename_clean\",\"Miete_eur_m2\"]\n",
    "assert \"Gemeindename\" in z4.columns, \"Bitte erst zensus_0004_clean.csv erzeugen.\"\n",
    "z4[\"name_norm\"] = z4[\"Gemeindename\"].astype(str).map(normalize_city)\n",
    "\n",
    "zensus_names = set(z4[\"name_norm\"].dropna().unique())\n",
    "print(\"Zensus-Namen (unique):\", len(zensus_names))\n"
   ]
  },
  {
   "cell_type": "code",
   "execution_count": 55,
   "id": "469afb53",
   "metadata": {},
   "outputs": [
    {
     "ename": "DatabaseError",
     "evalue": "Execution failed on sql 'SELECT regio3, regio2 FROM listings_raw': no such column: regio3",
     "output_type": "error",
     "traceback": [
      "\u001b[31m---------------------------------------------------------------------------\u001b[39m",
      "\u001b[31mOperationalError\u001b[39m                          Traceback (most recent call last)",
      "\u001b[36mFile \u001b[39m\u001b[32md:\\Hausverwaltung\\rental-price-prediction-dashboard\\.venv311\\Lib\\site-packages\\pandas\\io\\sql.py:2664\u001b[39m, in \u001b[36mSQLiteDatabase.execute\u001b[39m\u001b[34m(self, sql, params)\u001b[39m\n\u001b[32m   2663\u001b[39m \u001b[38;5;28;01mtry\u001b[39;00m:\n\u001b[32m-> \u001b[39m\u001b[32m2664\u001b[39m     \u001b[43mcur\u001b[49m\u001b[43m.\u001b[49m\u001b[43mexecute\u001b[49m\u001b[43m(\u001b[49m\u001b[43msql\u001b[49m\u001b[43m,\u001b[49m\u001b[43m \u001b[49m\u001b[43m*\u001b[49m\u001b[43margs\u001b[49m\u001b[43m)\u001b[49m\n\u001b[32m   2665\u001b[39m     \u001b[38;5;28;01mreturn\u001b[39;00m cur\n",
      "\u001b[31mOperationalError\u001b[39m: no such column: regio3",
      "\nThe above exception was the direct cause of the following exception:\n",
      "\u001b[31mDatabaseError\u001b[39m                             Traceback (most recent call last)",
      "\u001b[36mCell\u001b[39m\u001b[36m \u001b[39m\u001b[32mIn[55]\u001b[39m\u001b[32m, line 2\u001b[39m\n\u001b[32m      1\u001b[39m con = sqlite3.connect(DB_PATH)\n\u001b[32m----> \u001b[39m\u001b[32m2\u001b[39m df_list = \u001b[43mpd\u001b[49m\u001b[43m.\u001b[49m\u001b[43mread_sql_query\u001b[49m\u001b[43m(\u001b[49m\u001b[33;43m\"\u001b[39;49m\u001b[33;43mSELECT regio3, regio2 FROM listings_raw\u001b[39;49m\u001b[33;43m\"\u001b[39;49m\u001b[43m,\u001b[49m\u001b[43m \u001b[49m\u001b[43mcon\u001b[49m\u001b[43m)\u001b[49m\n\u001b[32m      3\u001b[39m con.close()\n\u001b[32m      5\u001b[39m city_series = np.where(df_list[\u001b[33m\"\u001b[39m\u001b[33mregio3\u001b[39m\u001b[33m\"\u001b[39m].notna() & (df_list[\u001b[33m\"\u001b[39m\u001b[33mregio3\u001b[39m\u001b[33m\"\u001b[39m].astype(\u001b[38;5;28mstr\u001b[39m).str.strip()!=\u001b[33m\"\u001b[39m\u001b[33m\"\u001b[39m),\n\u001b[32m      6\u001b[39m                        df_list[\u001b[33m\"\u001b[39m\u001b[33mregio3\u001b[39m\u001b[33m\"\u001b[39m].astype(\u001b[38;5;28mstr\u001b[39m),\n\u001b[32m      7\u001b[39m                        df_list[\u001b[33m\"\u001b[39m\u001b[33mregio2\u001b[39m\u001b[33m\"\u001b[39m].astype(\u001b[38;5;28mstr\u001b[39m))\n",
      "\u001b[36mFile \u001b[39m\u001b[32md:\\Hausverwaltung\\rental-price-prediction-dashboard\\.venv311\\Lib\\site-packages\\pandas\\io\\sql.py:528\u001b[39m, in \u001b[36mread_sql_query\u001b[39m\u001b[34m(sql, con, index_col, coerce_float, params, parse_dates, chunksize, dtype, dtype_backend)\u001b[39m\n\u001b[32m    525\u001b[39m \u001b[38;5;28;01massert\u001b[39;00m dtype_backend \u001b[38;5;129;01mis\u001b[39;00m \u001b[38;5;129;01mnot\u001b[39;00m lib.no_default\n\u001b[32m    527\u001b[39m \u001b[38;5;28;01mwith\u001b[39;00m pandasSQL_builder(con) \u001b[38;5;28;01mas\u001b[39;00m pandas_sql:\n\u001b[32m--> \u001b[39m\u001b[32m528\u001b[39m     \u001b[38;5;28;01mreturn\u001b[39;00m \u001b[43mpandas_sql\u001b[49m\u001b[43m.\u001b[49m\u001b[43mread_query\u001b[49m\u001b[43m(\u001b[49m\n\u001b[32m    529\u001b[39m \u001b[43m        \u001b[49m\u001b[43msql\u001b[49m\u001b[43m,\u001b[49m\n\u001b[32m    530\u001b[39m \u001b[43m        \u001b[49m\u001b[43mindex_col\u001b[49m\u001b[43m=\u001b[49m\u001b[43mindex_col\u001b[49m\u001b[43m,\u001b[49m\n\u001b[32m    531\u001b[39m \u001b[43m        \u001b[49m\u001b[43mparams\u001b[49m\u001b[43m=\u001b[49m\u001b[43mparams\u001b[49m\u001b[43m,\u001b[49m\n\u001b[32m    532\u001b[39m \u001b[43m        \u001b[49m\u001b[43mcoerce_float\u001b[49m\u001b[43m=\u001b[49m\u001b[43mcoerce_float\u001b[49m\u001b[43m,\u001b[49m\n\u001b[32m    533\u001b[39m \u001b[43m        \u001b[49m\u001b[43mparse_dates\u001b[49m\u001b[43m=\u001b[49m\u001b[43mparse_dates\u001b[49m\u001b[43m,\u001b[49m\n\u001b[32m    534\u001b[39m \u001b[43m        \u001b[49m\u001b[43mchunksize\u001b[49m\u001b[43m=\u001b[49m\u001b[43mchunksize\u001b[49m\u001b[43m,\u001b[49m\n\u001b[32m    535\u001b[39m \u001b[43m        \u001b[49m\u001b[43mdtype\u001b[49m\u001b[43m=\u001b[49m\u001b[43mdtype\u001b[49m\u001b[43m,\u001b[49m\n\u001b[32m    536\u001b[39m \u001b[43m        \u001b[49m\u001b[43mdtype_backend\u001b[49m\u001b[43m=\u001b[49m\u001b[43mdtype_backend\u001b[49m\u001b[43m,\u001b[49m\n\u001b[32m    537\u001b[39m \u001b[43m    \u001b[49m\u001b[43m)\u001b[49m\n",
      "\u001b[36mFile \u001b[39m\u001b[32md:\\Hausverwaltung\\rental-price-prediction-dashboard\\.venv311\\Lib\\site-packages\\pandas\\io\\sql.py:2728\u001b[39m, in \u001b[36mSQLiteDatabase.read_query\u001b[39m\u001b[34m(self, sql, index_col, coerce_float, parse_dates, params, chunksize, dtype, dtype_backend)\u001b[39m\n\u001b[32m   2717\u001b[39m \u001b[38;5;28;01mdef\u001b[39;00m\u001b[38;5;250m \u001b[39m\u001b[34mread_query\u001b[39m(\n\u001b[32m   2718\u001b[39m     \u001b[38;5;28mself\u001b[39m,\n\u001b[32m   2719\u001b[39m     sql,\n\u001b[32m   (...)\u001b[39m\u001b[32m   2726\u001b[39m     dtype_backend: DtypeBackend | Literal[\u001b[33m\"\u001b[39m\u001b[33mnumpy\u001b[39m\u001b[33m\"\u001b[39m] = \u001b[33m\"\u001b[39m\u001b[33mnumpy\u001b[39m\u001b[33m\"\u001b[39m,\n\u001b[32m   2727\u001b[39m ) -> DataFrame | Iterator[DataFrame]:\n\u001b[32m-> \u001b[39m\u001b[32m2728\u001b[39m     cursor = \u001b[38;5;28;43mself\u001b[39;49m\u001b[43m.\u001b[49m\u001b[43mexecute\u001b[49m\u001b[43m(\u001b[49m\u001b[43msql\u001b[49m\u001b[43m,\u001b[49m\u001b[43m \u001b[49m\u001b[43mparams\u001b[49m\u001b[43m)\u001b[49m\n\u001b[32m   2729\u001b[39m     columns = [col_desc[\u001b[32m0\u001b[39m] \u001b[38;5;28;01mfor\u001b[39;00m col_desc \u001b[38;5;129;01min\u001b[39;00m cursor.description]\n\u001b[32m   2731\u001b[39m     \u001b[38;5;28;01mif\u001b[39;00m chunksize \u001b[38;5;129;01mis\u001b[39;00m \u001b[38;5;129;01mnot\u001b[39;00m \u001b[38;5;28;01mNone\u001b[39;00m:\n",
      "\u001b[36mFile \u001b[39m\u001b[32md:\\Hausverwaltung\\rental-price-prediction-dashboard\\.venv311\\Lib\\site-packages\\pandas\\io\\sql.py:2676\u001b[39m, in \u001b[36mSQLiteDatabase.execute\u001b[39m\u001b[34m(self, sql, params)\u001b[39m\n\u001b[32m   2673\u001b[39m     \u001b[38;5;28;01mraise\u001b[39;00m ex \u001b[38;5;28;01mfrom\u001b[39;00m\u001b[38;5;250m \u001b[39m\u001b[34;01minner_exc\u001b[39;00m\n\u001b[32m   2675\u001b[39m ex = DatabaseError(\u001b[33mf\u001b[39m\u001b[33m\"\u001b[39m\u001b[33mExecution failed on sql \u001b[39m\u001b[33m'\u001b[39m\u001b[38;5;132;01m{\u001b[39;00msql\u001b[38;5;132;01m}\u001b[39;00m\u001b[33m'\u001b[39m\u001b[33m: \u001b[39m\u001b[38;5;132;01m{\u001b[39;00mexc\u001b[38;5;132;01m}\u001b[39;00m\u001b[33m\"\u001b[39m)\n\u001b[32m-> \u001b[39m\u001b[32m2676\u001b[39m \u001b[38;5;28;01mraise\u001b[39;00m ex \u001b[38;5;28;01mfrom\u001b[39;00m\u001b[38;5;250m \u001b[39m\u001b[34;01mexc\u001b[39;00m\n",
      "\u001b[31mDatabaseError\u001b[39m: Execution failed on sql 'SELECT regio3, regio2 FROM listings_raw': no such column: regio3"
     ]
    }
   ],
   "source": [
    "con = sqlite3.connect(DB_PATH)\n",
    "df_list = pd.read_sql_query(\"SELECT regio3, regio2 FROM listings_raw\", con)\n",
    "con.close()\n",
    "\n",
    "city_series = np.where(df_list[\"regio3\"].notna() & (df_list[\"regio3\"].astype(str).str.strip()!=\"\"),\n",
    "                       df_list[\"regio3\"].astype(str),\n",
    "                       df_list[\"regio2\"].astype(str))\n",
    "city_series = pd.Series(city_series, name=\"city_raw\").fillna(\"\")\n",
    "\n",
    "uniq_cities = pd.DataFrame({\"city_raw\": city_series.unique()})\n",
    "uniq_cities[\"city_norm\"] = uniq_cities[\"city_raw\"].map(normalize_city)\n",
    "\n",
    "print(\"Anzahl unterschiedlicher Ortsnamen (roh):\", len(uniq_cities))\n",
    "print(\"Anzahl unterschiedlicher Ortsnamen (norm):\", uniq_cities[\"city_norm\"].nunique())\n"
   ]
  }
 ],
 "metadata": {
  "kernelspec": {
   "display_name": ".venv311",
   "language": "python",
   "name": "python3"
  },
  "language_info": {
   "codemirror_mode": {
    "name": "ipython",
    "version": 3
   },
   "file_extension": ".py",
   "mimetype": "text/x-python",
   "name": "python",
   "nbconvert_exporter": "python",
   "pygments_lexer": "ipython3",
   "version": "3.11.9"
  }
 },
 "nbformat": 4,
 "nbformat_minor": 5
}
